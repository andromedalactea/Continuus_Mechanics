{
  "cells": [
    {
      "cell_type": "markdown",
      "metadata": {
        "id": "6XE49aAfGdAu"
      },
      "source": [
        "<p>\n",
        "<img src=\"https://drive.google.com/uc?id=1ZHUKcwzA5c-PKUwoGmBG3TsHk6TmZ-Y0\" align=\"left\" width=\"250\">\n",
        "</p>\n",
        "<p>\n",
        "<h1><b><center>Mecánica de Medios Continuos</center></b></h1>\n",
        "<h2><b><center>Prof. Jorge I. Zuluaga</center></b></h1>\n",
        "<h2><b><center>Tarea 1</center></b><h2>\n",
        "<h3><b><center>Modelo numérico de un gas</center></b><h3>\n",
        "<h5><center><b>Asignada</b>: 9 de Febrero de 2024</center><h5>\n",
        "<h5><center><b>Entrega</b>: 23 de Febrero de 2024</center><h5>\n",
        "</p>"
      ]
    },
    {
      "cell_type": "markdown",
      "metadata": {
        "id": "DZ3br0tlHiUH"
      },
      "source": [
        "<hr/>\n",
        "<b>Nombre</b>: Bryan Camilo Restrepo Arcila\n",
        "<br/>\n",
        "<b>Cédula</b>: 1000567825\n",
        "<br/>\n",
        "<b>Última actualización</b>:\n",
        "<hr/>"
      ]
    },
    {
      "cell_type": "markdown",
      "metadata": {
        "id": "32KKSLFEHYpg"
      },
      "source": [
        "## Enunciado"
      ]
    },
    {
      "cell_type": "markdown",
      "metadata": {
        "id": "BJv9-ZZAIUgW"
      },
      "source": [
        "**Objetivo**: El objetivo de esta tarea es implementar la teoría básica vista en clase para un gas ideal y simular el comportamiento de del gas, verificando las relaciones que existen entre las propiedades microscópicas y macroscópicas del mismo.\n",
        "\n",
        "**Procedimiento**:\n",
        "\n",
        "Para conseguir el objetivo:\n",
        "\n",
        "1. Definir un sistema apropiado de unidades termodinámicas, tal que $k_B=1$, es decir, después de fijar 3 de las unidades básicas, encuentre la unidad faltante. Explique bien sus elecciones.\n",
        "\n",
        "2. Generar posiciones al azar para $N$ partículas de un gas dentro de una caja cúbica de lado $L=10$ (en unidades termodinámicas). Comience, para hacer pruebas, con un número pequeño de partícula $N=100$ y vaya aumentando para mejorar los resultados.\n",
        "\n",
        "3. Escoger una temperatura inicial para el gas $T$ y una masa para las partículas $m_A$. Calcule $v_{mol}$ y $\\sigma_v=\\sqrt{k_B T/m}$. Genere  los vectores velocidad de las partículas de modo que sus componentes rectangulares sigan la prescripción de Boltzmann, a saber, cada componente se distribuye normalmente, con media 0 y desviación estándar igual a $\\sigma_v$ (para todas las componentes).\n",
        "\n",
        "> **NOTA**: Para generar números distribuídos gausianamente se puede usar la rutina: np.random.normal así: `np.random.normal(loc=0,scale=0.8, size=100)` genera 100 números distribuídos normalmente con media $\\mu=0$ y desviación estándar $\\sigma=0.8$.\n",
        "\n",
        "4. Una vez inicializadas las posiciones y las velocidades, calcular *numéricamente* en toda la caja: a) la densidad de número de las partículas, b) la densidad de masa, c) la densidad de energía cinética.\n",
        "\n",
        "5. Calcular la rapidez de cada partícula y hacer un histograma de las rapideces. Comparar el histograma resultante con la distribución de Maxwell-Boltzmann:\n",
        "\n",
        "$$\n",
        "f(v)=\\left[\\frac{m}{2 \\pi k T}\\right]^{\\frac{3}{2}} 4 \\pi v^2 \\exp \\left(-\\frac{m v^2}{2 k T}\\right)\n",
        "$$\n",
        "\n",
        "6. Definir un paso de tiempo para realizar la simulación del movimiento de las partículas así:\n",
        "\n",
        "   - Calcular $L_{mol}$ en la caja.\n",
        "\n",
        "   - El paso de tiempo será $dt = (L_{mol}/v_0)/f_t$ donde $f_t = 10$. Puede hacer más pequeño o más grande $f_t$ de dependiendo de si la simulación tarda mucho tiempo en ejecutarse.\n",
        "\n",
        "7. Simular el movimiento de las partículas del gas así:\n",
        "\n",
        "   - Por cada paso de tiempo modificar la posición de las partículas con la velocidad que cada una tenga en un momento dado.\n",
        "\n",
        "   - Si una partícula se sale por un lado de la caja la partícula debe volver a la caja reflejándose en la pared. Para esto puede simplemente dejar la partícula donde estaba y cambiar el signo de la componente de la velocidad en dirección perpendicular a la superficie de la pared.\n",
        "\n",
        "   - En cada paso de tiempo, y por cada partícula, determinar cuál de las demás partículas de la caja esta más cerca. Si la distancia a la que se encuentra la otra partícula es menor que $f_d L_{mol}$, donde $f_d=10$ asumiremos que las dos partículas chocan y calcularemos el resultado del choque elástico entre ellas. Puede modificar el parámetro $f_d$ de acuerdo a los resultados.\n",
        "\n",
        "   - Modifique las velocidades de las partículas cada vez que haya un choque usando la siguiente rutina:\n",
        "\n",
        "   ```python\n",
        "   def colision(r1,r2,v1,v2):\n",
        "      \"\"\"Calcula las velocidades de dos partículas idénticas\n",
        "      después de una colisión elástica.\n",
        "      \n",
        "      Recibe:\n",
        "        r1, r2: vectores de posición iniciales (debe ser arrays de numpy).\n",
        "        v1, v2: vectores de velocidad iniciales (debe ser arrays de numpy).\n",
        "      Devuelve:\n",
        "        v1f, v2f: nuevos vectores velocidad de las partículas.\n",
        "\n",
        "      Adaptado de un código por Alejandro Murillo González.\n",
        "      \"\"\"\n",
        "      r = r1-r2\n",
        "      n = r/np.linalg.norm(r)\n",
        "\n",
        "      vrel = v1-v2\n",
        "\n",
        "      vn = (vrel@n)*n\n",
        "      v1f = v1-vn\n",
        "      v2f = v2+vn\n",
        "      \n",
        "      return v1f, v2f\n",
        "   ```\n",
        "\n",
        "8. Para un momento dado calcule la presión que ejercen las partículas sobre cada una de las parede de la caja. Para ello sume los cambios en los momentos lineales que sufren las partículas al golpear y divida por el passo del tiempo que está usando en la simulación. Compare la presión calculada con la densidad de energía cinética.  También compare la presión obtenida con aquella que se espera a partir de la ecuación de estado de gas ideal.\n",
        "\n",
        "9. **(Opcional)** Utilizando su modelo puede hacer experimentos interesantes:\n",
        "  - Expansión libre: Divida la caja en dos con un tabique virtual en la mitad. Inicialice las posiciones y velocidades en solo una mitad de la caja, siguiendo las recomendaciones de este punto. Practique ahora un agujero cuadrado de lado $L/10$ (asegúrese que el agujero no sea más pequeño que $L_{mol}$) en la mitad de la pared. Ahora las partículas chocan contra las paredes y contra el tabique, excepto en el punto del agujero. Corra la simulación permitiendo que las partículas pasen de un lado al otro de la caja hasta que note que toda la caja se ha llenado de partículas. Calcule la densidad y la presión (usando la densidad de energía cinética) al final. Compárela con la que se espera de la teoría de expansión libre de un gas en termodinámica (ver una teoría básica [en este enlace](https://en.wikipedia.org/wiki/Joule_expansion#Ideal_gases)).\n",
        "\n",
        "  - Proceso adiabático: Simule el movimiento de las partículas mientras va moviendo una de las paredes de la caja hacia adentro. Para ello cada 100 pasos de tiempo desplace la pared hacia adentro 1/10 de $L$.  Repita el proceso hasta que la pared este bien adentro (lo ideal es hasta llegar a $L/2$). Detenga la pared y deje que pasen suficientes pasos de tiempo (otros 100 pasos por ejemplo). Determine la temperatura final del gas (usando la RMS de la rapidez), la densidad y la presión (usando la densidad de energía cinética). Compare su resultado con lo esperado en termodinámica para un proceso de compresión adiabática (ver una teoría básica en [en este enlace](https://en.wikipedia.org/wiki/Adiabatic_process#Ideal_gas_(reversible_process)))\n",
        "\n",
        "**Resultados esperados**:\n",
        "\n",
        "- Este notebook con el procedimiento debidamente comentado.\n",
        "\n",
        "- Gráficos mínimos:\n",
        "  - Gráfico de la posición inicial de las partículas en 2 dimensiones.\n",
        "  - Gráfico del histograma de rapideces comparado con la distribución de Maxwell-Boltzmann.\n",
        "\n",
        "- Datos mínimos:\n",
        "  - Valores de densidad de número, densidad de masa, densidad de energía cinética, presión calculada numéricamente, presión esperada de acuerdo a la ecuación de estado.\n",
        "\n",
        "- Gráficos opcionales:\n",
        "  - Animación del movimiento de las partículas.\n",
        "\n",
        "- **Importante**: En caso de utilizar ayudas como `ChatGPT` o códigos de `Stack Over Flow` debe citar debidamente la fuente, pero también entender a cabalidad el código, el profesor puede pedir justificación."
      ]
    },
    {
      "cell_type": "markdown",
      "metadata": {
        "id": "J0ISSYQpHex_"
      },
      "source": [
        "## Solución"
      ]
    }
  ],
  "metadata": {
    "colab": {
      "provenance": []
    },
    "kernelspec": {
      "display_name": "Python 3",
      "name": "python3"
    },
    "language_info": {
      "name": "python"
    }
  },
  "nbformat": 4,
  "nbformat_minor": 0
}
