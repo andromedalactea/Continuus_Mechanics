{
  "cells": [
    {
      "cell_type": "markdown",
      "metadata": {
        "id": "6XE49aAfGdAu"
      },
      "source": [
        "<p>\n",
        "<h1><b><center></center></b></h1>\n",
        "<center><img src=\"https://drive.google.com/uc?id=1UJc1ci41G6ahJ7ProKvunUOIBcTXZ6ZG\" align=\"center\" width=\"550\"></center>\n",
        "</p>\n",
        "<h1><b><center>Mecánica Celeste</center></b></h1>\n",
        "<h2><b><center>Prof. Jorge I. Zuluaga</center></b></h1>\n",
        "<h2><b><center>Tarea 5</center></b><h2>\n",
        "<h3><b><center>Modelos Cosmológicos</center></b><h3>\n",
        "<h5><center><b>Asignada</b>: 7 de Mayo de 2024</center><h5>\n",
        "<h5><center><b>Entrega</b>: 21 de Mayo de 2024</center><h5>\n",
        "</p>"
      ]
    },
    {
      "cell_type": "markdown",
      "metadata": {
        "id": "DZ3br0tlHiUH"
      },
      "source": [
        "<hr/>\n",
        "<b>Nombre</b>: Bryan Camilo Restrepo Arcila\n",
        "<br/>\n",
        "<b>Cédula</b>: 1000567825\n",
        "<br/>\n",
        "<b>Última actualización</b>:\n",
        "<hr/>"
      ]
    },
    {
      "cell_type": "markdown",
      "metadata": {
        "id": "32KKSLFEHYpg"
      },
      "source": [
        "## Enunciado"
      ]
    },
    {
      "cell_type": "markdown",
      "metadata": {
        "id": "BJv9-ZZAIUgW"
      },
      "source": [
        "**Objetivo**: El objetivo de esta tarea es resolver las ecuaciones de Firedmann-Lemaitre para describir la expansión del universo bajo distintas condiciones de contenido de masa-energía y otros observables cosmológicos.\n",
        "\n",
        "**Procedimiento**:\n",
        "\n",
        "Realice los siguientes cálculos numéricos:\n",
        "\n",
        "1. **Unidades cosmológicas**. Vamos a introducir unas unidades\n",
        "   convenientes para tratar numéricamente con problemas cosmológicos. En estas unidades $G=1$, $c=1$ y $H_0=1$. Llamaremos a estas las *unidades canónicas de la cosmología*. Determine el valor de las unidades de tiempo, longitud, masa y densidad.  \n",
        "\n",
        "2. **Integración de las ecuaciones del universo**. Escriba las ecuaciones\n",
        "   diferenciales para $H(t)$ y $\\rho(t)$ obtenidas a partir de la conservación de la masa y la segunda ley de Newton (ecuación de Cauchy),\n",
        "\n",
        "  $$\n",
        "  \\begin{aligned}\n",
        "\\dot{\\rho} & =-3 \\rho H(t) \\\\\n",
        "\\dot{H}+H^2 & =-\\frac{4 \\pi}{3} G \\rho(t)\n",
        "\\end{aligned}\n",
        "  $$\n",
        "  en unidades canónicas. Asumiendo como valores actuales $\\rho(t_0)=\\rho_0=3\\times 10^{-27}$ kg/m$^3$ y $H(t_0) = H_0 = 70$ km/s/Mpc, integre numéricamente las ecuaciones hacia el futuro usando $t_0=0$. Recuerde que todo debe hacerlo en unidades canónicas.\n",
        "\n",
        "3. **La edad del universo** Integre ahora las ecuaciones hacia el pasado. Tenga en cuenta que por la naturaleza de la expansión, en algún instante la densidad se hará infinita. Determine por tanteo el valor $\\tau$ (negativo, porque es en el pasado) para el cuál la integral produce valores muy grandes, pero no infinitos de la densidad (asíntota). Este valor, $\\tau$ es la edad del universo predicha por el modelo. ¿Qué pasa con la edad del universo para valores de $\\rho_0$ mayores o menores?.  \n",
        "\n",
        "4. **La ecuación de aceleración**. Vamos ahora e estudiar la solución\n",
        "   numérica, para distintas condiciones, de la ecuación de aceleración de Friedmann-Lemaitre:\n",
        "\n",
        "   $$\n",
        "   \\ddot{a}=\\frac{4 \\pi}{3} G\\left(2 \\rho_{\\Lambda}-\\rho_m\\right) a\n",
        "   $$\n",
        "  \n",
        "  Para ello integre numéricamente la ecuación de aceleración asumiendo distintos escenarios de materia.\n",
        "  \n",
        "  - $\\Omega_0 = 0.3$, $\\Omega_{0\\Lambda} = 0$ (universo abierto sin energía oscura).\n",
        "  - $\\Omega_0 = 1$, $\\Omega_{0\\Lambda} = 0.7$ (universo crítico con alta energía oscura).\n",
        "  \n",
        "  donde $\\Omega_0 = \\Omega_{0m} + \\Omega_{0\\Lambda} = (\\rho_{0m} + \\rho_{0\\Lambda})/\\rho_{0c}$ es el parámetro de densidad total. Recuerde que por conservación de la energía $\\rho_m = \\rho_{0m}(a_0/a)^3$ y, por hipótesis, $\\rho_\\Lambda$ es constante.\n",
        "\n",
        "  En cada escenario haga gráficos de la evolución de $a(t)$, $\\ddot a(t)$, $\\rho(t)$ y $H(t)$.\n",
        "\n",
        "  Para ello se sugiere integrar la ecuación hacia atrás en el tiempo por un tiempo $\\tau$ primero pequeño y después aumentarlo hasta que se llegue a $a(t)=0$.\n",
        "\n",
        "Realice ahora las siguientes deducciones teóricas:\n",
        "\n",
        "5. **Loopback time**. Hay una forma de calcular la edad del\n",
        "   universo, que en los experimentos anteriores tuvo que encontrarse manualmente.  Para ello se define el que se conoce como el *loopback time* (tiempo de mirada atrás), $t_{LB}$. Este número es el tiempo que se ha expandido el universo desde un valor específico del factor de escala $a(t)$ hasta el presente cuando $a(t_0)=1$.\n",
        "\n",
        "   Partiendo de la definición del parámetro de Hubble:\n",
        "   $$\n",
        "   H=\\frac{\\dot a}{a}\n",
        "   $$\n",
        "\n",
        "   **mostrar** que el tiempo cósmico correspondiente a un determinado valor de $a$ se puede obtener como:\n",
        "\n",
        "   $$\n",
        "   t_{LB}(a) = t_0 - t(a) = \\int_{a}^{1} \\frac{\\mathrm{d}a'}{a' H(a')}\n",
        "   $$\n",
        "   donde $t_0$ es el tiempo actual. Nótese que, por definición, cuando $a=0$ el $t_{LB}$ es la edad $\\tau_0$ del universo.\n",
        "\n",
        "6. **Evolución de H**. Para calcular el $t_{LB}$ es necesario encontrar\n",
        "   una ecuación que nos de $H$ como función de $a$. Eso se logra despejando $H$ de la ecuación de Friedman-Lemeitre:\n",
        "\n",
        "   $$\n",
        "   \\epsilon=\\frac{4 \\pi}{3} G a^2\\left[\\frac{3 H^2}{8 \\pi G}-\\left(\\rho+\\rho_{\\Lambda}\\right)\\right]\n",
        "   $$\n",
        "   donde recordemos $\\epsilon$ es una constante.\n",
        "\n",
        "   **Demuestre** que $H$ se puede escribir como:\n",
        "\n",
        "   $$\n",
        "   \\frac{H^2}{H_0^2} = \\frac{\\rho+\\rho_\\Lambda + \\rho_k}{\\rho_{c0}}\n",
        "   $$\n",
        "\n",
        "   donde:\n",
        "   $$\n",
        "   \\rho_k \\equiv \\frac{3 \\epsilon}{4\\pi G} \\frac{1}{a^2}\n",
        "   $$\n",
        "   es una densidad ficticia que llamaremos *densidad de curvatura* (por un término usado en relatividad general, pero que aquí es solo una definición).\n",
        "\n",
        "   Sabemos que la materia tiene una densidad que cambia según la ley $\\rho_m=\\rho_{0m}(a_0/a)^3$, que la energía oscura tiene $\\rho_\\Lambda = \\rho_{0\\Lambda}$ (no cambia en el tiempo) y que la densidad de curvatura varia según $\\rho_k=\\rho_{0k}(a_0/a)^2$. Usando esto mostrar que $H$ se puede escribir como:\n",
        "\n",
        "   $$\n",
        "   H(a) = H_0\\sqrt{\\Omega_{0m}(a_0/a)^3 + \\Omega_{0k}(a_0/a)^2 + \\Omega_\\Lambda}\n",
        "   $$\n",
        "\n",
        "7. **Edad del universo teórica**. En astrofísica, el corrimiento al rojo\n",
        "   se relaciona con el factor de escala así: $a/a_0 = 1/(1+z)$.  \n",
        "   \n",
        "   **Demuestre**, teniendo en cuenta la ecuación para $H(a)$ y escribiéndola en términos de $z$ el $t_{LB}$ es:\n",
        "\n",
        "   $$\n",
        "   t_{LB}(z) = t_H \\int_0^z \\frac{dz}{(1+z)\\sqrt{\\Omega_{0m}(1+z)^3 + \\Omega_{0k}(1+z)^2 + \\Omega_\\Lambda}}\n",
        "   $$\n",
        "\n",
        "   De allí, la edad del universo será finalmente:\n",
        "\n",
        "   $$\n",
        "   \\tau_0 = t_H \\int_0^\\infty \\frac{dz}{(1+z)\\sqrt{\\Omega_{0m}(1+z)^3 + \\Omega_{0k}(1+z)^2 + \\Omega_\\Lambda}}\n",
        "   $$\n",
        "\n",
        "   Donde $t_H=1/H_0$.\n",
        "\n",
        "   Use la rutina `scipy.integrate.quad` para hacer esta integral (como limite superior puede poner `np.inf` y la rutina entiende que es una integral impropia) y calcular así la edad que tiene hoy el universo en los modelos cosmológicos estudiados en 3."
      ]
    },
    {
      "cell_type": "markdown",
      "metadata": {
        "id": "91A-a_vz5IqR"
      },
      "source": [
        "**Resultados esperados**:\n",
        "\n",
        "- Este notebook con el procedimiento debidamente comentado.\n",
        "\n",
        "- Gráficos esperados:\n",
        "  - Evolución hacia el futuro y hacia el pasado de la densidad y el parámetro de Hubble para las condiciones actuales del universo (punto 2 y 3).\n",
        "  - Evolución de: factor de escala, parámetro de Hubble, aceleración y densidad para cada uno de los modelos cosmológicos (punto 4).\n",
        "\n",
        "- Datos esperados:\n",
        "  - Unidades canónicas cosmológicas.\n",
        "  - Edad del universo obtenida con ensayo y error en el punto 3.\n",
        "  - Edad del universo para los distintos modelos cosmológicos, obtenidos por ensayo y error en el punto 4.\n",
        "  - Respuestas a las preguntas del punto 5 a 6.\n",
        "  - Edades del universo calculadas de forma exacta en el punto 7.\n",
        "\n",
        "- En caso de utilizar ayudas como `ChatGPT` o códigos de `Stack Over Flow` debe citar debidamente la fuente, pero también entender a cabalidad el código, el profesor puede pedir justificación."
      ]
    },
    {
      "cell_type": "markdown",
      "metadata": {
        "id": "J0ISSYQpHex_"
      },
      "source": [
        "## Solución"
      ]
    },
    {
      "cell_type": "code",
      "execution_count": null,
      "metadata": {
        "id": "DSoMsG3Ar1VL"
      },
      "outputs": [],
      "source": []
    }
  ],
  "metadata": {
    "colab": {
      "provenance": []
    },
    "kernelspec": {
      "display_name": "Python 3",
      "name": "python3"
    },
    "language_info": {
      "name": "python"
    }
  },
  "nbformat": 4,
  "nbformat_minor": 0
}
