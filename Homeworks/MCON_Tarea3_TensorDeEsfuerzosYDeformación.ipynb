{
  "cells": [
    {
      "cell_type": "markdown",
      "metadata": {
        "id": "6XE49aAfGdAu"
      },
      "source": [
        "<p>\n",
        "<h1><b><center></center></b></h1>\n",
        "<center><img src=\"https://drive.google.com/uc?id=1UJc1ci41G6ahJ7ProKvunUOIBcTXZ6ZG\" align=\"center\" width=\"550\"></center>\n",
        "</p>\n",
        "<h1><b><center>Mecánica Celeste</center></b></h1>\n",
        "<h2><b><center>Prof. Jorge I. Zuluaga</center></b></h1>\n",
        "<h2><b><center>Tarea 3</center></b><h2>\n",
        "<h3><b><center>Tensor de esfuerzos y deformación</center></b><h3>\n",
        "<h5><center><b>Asignada</b>: 2 de Abril de 2024</center><h5>\n",
        "<h5><center><b>Entrega</b>: 16 de Abril de 2024</center><h5>\n",
        "</p>"
      ]
    },
    {
      "cell_type": "markdown",
      "metadata": {
        "id": "DZ3br0tlHiUH"
      },
      "source": [
        "<hr/>\n",
        "<b>Nombre</b>: Bryan Camilo Restrepo Arcila\n",
        "<br/>\n",
        "<b>Cédula</b>: 1000567825\n",
        "<br/>\n",
        "<b>Última actualización</b>:\n",
        "<hr/>"
      ]
    },
    {
      "cell_type": "markdown",
      "metadata": {
        "id": "32KKSLFEHYpg"
      },
      "source": [
        "## Enunciado"
      ]
    },
    {
      "cell_type": "markdown",
      "metadata": {
        "id": "BJv9-ZZAIUgW"
      },
      "source": [
        "**Objetivo**: El objetivo de esta tarea es poner en práctica con un problema práctico algunos de los temas vistos sobre el tensor de esfuerzos y el tensor de deformación.\n",
        "\n",
        "**Procedimiento**:\n",
        "\n",
        "Un bloque metálico de 2 metros por 1 metro, con 0.2 metros de espesor, esta sometido a un campo de desplazamientos dado por la siguiente expresión:\n",
        "\n",
        "  $$\n",
        "  \\begin{array}{ll}\n",
        "x & =X+0.001 Y+0.0002 X^2 - 0.002 Z \\\\\n",
        "y & =1.001 Y-0.0002 Y^2 + 0.004 Z \\\\\n",
        "z& = 0.0003 X^2 + 0.0004 Y + 0.998 Z\n",
        "\\end{array}\n",
        "  $$\n",
        "\n",
        "1. Hacer un mapa de campo vectorial mostrando los vectores de desplazamiento $\\vec u$ en la lamina. Es decir, sobre una malla de valores de las coordenadas eulerianas $X, Y$ dibujar el valor del vector de desplazamiento proyectado sobre ese plano $(u_x, u_y)$ para un valor de z específico. Crear un código interactivo que permita, variando el valor de $z$, ver el campo de desplazamientos en la lámina. Hacer lo mismo para cortes en el plano $X-Z$ y $Y-Z$.\n",
        "\n",
        "2. Calcular el campo tensorial de deformaciones (pequeñas) dentro de la lámina, $u_{ij}$ como función de $\\vec X$. Si se diagonaliza el tensor de deformaciones, es posible encontrar en cada punto las denominadas deformaciones principales (autovalores del tensor), $\\epsilon_1, \\epsilon_2, \\epsilon_3$ (de menor a mayor de acuerdo con su valor absoluto) y las direcciones principales de deformación (autovectores normalizados), $\\hat e_{u1}, \\hat e_{u2}, \\hat e_{u3}$. Escriba un código interactivo que permita variar el valor de $X, Y, Z$ y que muestre, en un gráfico en 3-D, las direcciones principales de deformación (son 3 vectores ortogonales) en ese punto de la lámina, de modo que el tamaño de cada vector sea proporcional al valor absoluto de la deformación principal correspondiente. Juegue con el código y comente lo que observa.\n",
        "\n",
        "3. Consulte el módulo de Young $E$ y el coeficiente de Poisson del Aluminio $\\nu$ y, usando la ley de Hooke (relación constitutiva), calcule el tensor de esfuerzos en cada punto del bloque (campo tensorial de esfuerzos) y la presión (campo escalar de presión). Ambos campos deben escribirse como función de $X, Y, Z$. Haga un interactivo en el que muestre, variando el valor de z, un gráfico de contornos (o mapa de calor) de la presión experimentada a cada profundidad dentro del bloque. ¿En que punto del bloque se experimenta la máxima presión y cuánto vale?.\n",
        "\n",
        "4. Calcule el tensor de esfuerzos en el centro del bloque. Diagonalizando el tensor, determine los esfuerzos principales (autovalores del tensor), $\\sigma_1, \\sigma_2, \\sigma_3$ y las direcciones de los esfuerzos principales (autovectores del tensor normalizados) $\\hat e_{\\sigma1}, \\hat e_{\\sigma2}, \\hat e_{\\sigma3}$. Ahora aplique una rotación del tensor de esfuerzos en ese punto y demuestre que el tensor rotado tiene forma diagonal. Repita el procedimiento de rotación a todos los puntos del bloque y usando esos tensores de esfuerzos rotados, repita 3 (mapas de calor de la presión en el bloque y lugar donde la presión es más grande).\n",
        "\n",
        "5. Determine el valor del vector de esfuerzo normal (tracción sobre la cara, $\\vec t_n = \\mathbf{\\sigma}\\cdot\\hat n$) que experimenta el bloque en cada una de sus 6 caras y el esfuerzo normal correspondiente ($\\sigma_n = \\vec t_n\\cdot\\hat n$). Haga gráficos de contorno (mapas de calor) para el valor del esfuerzo normal en cada uno de los puntos de esas caras. Comente su resultado.  Calcule también el valor del vector de esfuerzo de cizalladura en cada una de las 3 caras ($\\vec\\tau_n = \\vec t_n - \\sigma_n\\hat n$) y haga mapas de campo vectorial de esos vectores en cada una de ellas.\n"
      ]
    },
    {
      "cell_type": "markdown",
      "metadata": {
        "id": "91A-a_vz5IqR"
      },
      "source": [
        "**Resultados esperados**:\n",
        "\n",
        "- Este notebook con el procedimiento debidamente comentado.\n",
        "\n",
        "- Gráficos mínimos:\n",
        "  - Gráficos de cada punto.\n",
        "\n",
        "- Datos mínimos:\n",
        "  - Los números solicitados en cada punto.\n",
        "\n",
        "- En caso de utilizar ayudas como `ChatGPT` o códigos de `Stack Over Flow` debe citar debidamente la fuente, pero también entender a cabalidad el código, el profesor puede pedir justificación."
      ]
    },
    {
      "cell_type": "markdown",
      "metadata": {
        "id": "J0ISSYQpHex_"
      },
      "source": [
        "## Solución"
      ]
    },
    {
      "cell_type": "markdown",
      "metadata": {},
      "source": [
        "Instalación de Librerías "
      ]
    },
    {
      "cell_type": "code",
      "execution_count": 81,
      "metadata": {},
      "outputs": [],
      "source": [
        "!pip install -q ipywidgets"
      ]
    },
    {
      "cell_type": "markdown",
      "metadata": {},
      "source": [
        "Importanción de librerías"
      ]
    },
    {
      "cell_type": "code",
      "execution_count": 82,
      "metadata": {
        "id": "TOIft9CS5W6s"
      },
      "outputs": [],
      "source": [
        "import numpy as np\n",
        "import matplotlib.pyplot as plt\n",
        "from mpl_toolkits.mplot3d import Axes3D\n",
        "from matplotlib import cm\n",
        "import ipywidgets as widgets\n",
        "from IPython.display import display\n",
        "import ipywidgets as widgets\n",
        "from ipywidgets import interact, interact_manual\n",
        "import sympy as sp"
      ]
    },
    {
      "cell_type": "markdown",
      "metadata": {},
      "source": [
        "**Procedimiento**:\n",
        "\n",
        "Un bloque metálico de 2 metros por 1 metro, con 0.2 metros de espesor, esta sometido a un campo de desplazamientos dado por la siguiente expresión:\n",
        "\n",
        "  $$\n",
        "  \\begin{array}{ll}\n",
        "x & =X+0.001 Y+0.0002 X^2 - 0.002 Z \\\\\n",
        "y & =1.001 Y-0.0002 Y^2 + 0.004 Z \\\\\n",
        "z& = 0.0003 X^2 + 0.0004 Y + 0.998 Z\n",
        "\\end{array}\n",
        "  $$\n",
        "  \n",
        "1. Hacer un mapa de campo vectorial mostrando los vectores de desplazamiento $\\vec u$ en la lamina. Es decir, sobre una malla de valores de las coordenadas eulerianas $X, Y$ dibujar el valor del vector de desplazamiento proyectado sobre ese plano $(u_x, u_y)$ para un valor de z específico. Crear un código interactivo que permita, variando el valor de $z$, ver el campo de desplazamientos en la lámina. Hacer lo mismo para cortes en el plano $X-Z$ y $Y-Z$."
      ]
    },
    {
      "cell_type": "markdown",
      "metadata": {},
      "source": [
        "Definamos las funciones de desplazamiento de nuestro problema a partir de las posiciones iniciales X, Y, Z"
      ]
    },
    {
      "cell_type": "code",
      "execution_count": 83,
      "metadata": {},
      "outputs": [],
      "source": [
        "def displacement_x(X, Y, Z):\n",
        "    \"\"\"\n",
        "    Calcula la componente final en x del desplazamiento dado las coordenadas X, Y, Z.\n",
        "    \n",
        "    Parámetros:\n",
        "    X (float): Coordenada en el eje X.\n",
        "    Y (float): Coordenada en el eje Y.\n",
        "    Z (float): Coordenada en el eje Z.\n",
        "    \n",
        "    Retorna:\n",
        "    float: La componente final en x del desplazamiento.\n",
        "    \"\"\"\n",
        "    return X + 0.001 * Y + 0.0002 * X**2 - 0.002 * Z\n",
        "\n",
        "def displacement_y(_, Y, Z):\n",
        "    \"\"\"\n",
        "    Calcula la componente final en y del desplazamiento dado las coordenadas X, Y, Z.\n",
        "    \n",
        "    Parámetros:\n",
        "    X (float): Coordenada en el eje X.\n",
        "    Y (float): Coordenada en el eje Y.\n",
        "    Z (float): Coordenada en el eje Z.\n",
        "    \n",
        "    Retorna:\n",
        "    float: La componente final en y del desplazamiento.\n",
        "    \"\"\"\n",
        "    return 1.001 * Y - 0.0002 * Y**2 + 0.004 * Z\n",
        "\n",
        "def displacement_z(X, Y, Z):\n",
        "    \"\"\"\n",
        "    Calcula la componente final en z del desplazamiento dado las coordenadas X, Y, Z.\n",
        "    \n",
        "    Parámetros:\n",
        "    X (float): Coordenada en el eje X.\n",
        "    Y (float): Coordenada en el eje Y.\n",
        "    Z (float): Coordenada en el eje Z.\n",
        "    \n",
        "    Retorna:\n",
        "    float: La componente final en z del desplazamiento.\n",
        "    \"\"\"\n",
        "    return 0.0003 * X**2 + 0.0004 * Y + 0.998 * Z"
      ]
    },
    {
      "cell_type": "markdown",
      "metadata": {},
      "source": [
        "Hagamos el gráfico interactivo para perfiles x, y en relación a la variación de z"
      ]
    },
    {
      "cell_type": "code",
      "execution_count": 84,
      "metadata": {},
      "outputs": [
        {
          "data": {
            "application/vnd.jupyter.widget-view+json": {
              "model_id": "b3631db4f0304fd7b27655059ff9dcf8",
              "version_major": 2,
              "version_minor": 0
            },
            "text/plain": [
              "interactive(children=(FloatSlider(value=0.1, description='Z_value', max=0.2, step=0.01), Output()), _dom_class…"
            ]
          },
          "metadata": {},
          "output_type": "display_data"
        }
      ],
      "source": [
        "@interact\n",
        "def constante_jacobi_grafico(Z_value = (0,0.2,0.01)):\n",
        "  X_range = np.linspace(0, 2, 7)  # Range for X\n",
        "  Y_range = np.linspace(0, 1, 7)  # Range for Y\n",
        "  X, Y = np.meshgrid(X_range, Y_range)  # Create meshgrid\n",
        "\n",
        "  # Calculate initial vectors\n",
        "  x = displacement_x(X, Y, Z_value) \n",
        "  y = displacement_y(X, Y, Z_value) \n",
        "\n",
        "  # Plot vector field for the XY plane\n",
        "  plt.figure(figsize=(10, 5))\n",
        "  plt.plot(X, Y, 'o', color='black')\n",
        "  plt.quiver(x, y, X, Y, angles='xy', scale_units='xy', scale=1, color='purple')\n",
        "  plt.title(f'Vector de desplazamiento para Z={Z_value}[m] en el plano XY')\n",
        "  plt.xlabel(r'$\\hat{U}_x$ [m]')\n",
        "  plt.ylabel(r'$\\hat{U}_y$ [m]')\n",
        "  plt.xlim([0, 4])\n",
        "  plt.ylim([0, 2])\n",
        "  plt.grid()\n",
        "  plt.show()"
      ]
    },
    {
      "cell_type": "markdown",
      "metadata": {},
      "source": [
        "Si bien no es apreciable el desplazamiento a medida que se va analizando diferentes perfiles del bloque metalico en relación al eje z, esto tiene sentido ya que el eje \"x\" y \"y\", sus factores son en relación a la componente z son muy bajos  de 0.002 y 0.004 entre más grande sean estos la dependencia del vector despazmiento en relación a la variación de la coordenada z sería más grande"
      ]
    },
    {
      "cell_type": "markdown",
      "metadata": {},
      "source": [
        "Hagamos lo mismo para para cortes en el plano X, Z"
      ]
    },
    {
      "cell_type": "code",
      "execution_count": 85,
      "metadata": {},
      "outputs": [
        {
          "data": {
            "application/vnd.jupyter.widget-view+json": {
              "model_id": "2449abada114445c90c92222d161fbfd",
              "version_major": 2,
              "version_minor": 0
            },
            "text/plain": [
              "interactive(children=(FloatSlider(value=0.0, description='Y', max=1.0, step=0.01), Output()), _dom_classes=('w…"
            ]
          },
          "metadata": {},
          "output_type": "display_data"
        }
      ],
      "source": [
        "@interact\n",
        "def constante_jacobi_grafico(Y = (0,1,0.01)):\n",
        "  X_range = np.linspace(0, 2, 7)  # Range for X\n",
        "  Z_range = np.linspace(0, 0.2, 7)  # Range for Z\n",
        "  X, Z = np.meshgrid(X_range, Z_range)  # Create meshgrid\n",
        "\n",
        "  # Calculate initial vectors\n",
        "  x = displacement_x(X, Y, Z) \n",
        "  z = displacement_z(X, Y, Z) \n",
        "\n",
        "  # Plot vector field for the XY plane\n",
        "  plt.figure(figsize=(10, 5))\n",
        "  plt.plot(X, Z, 'o', color='black')\n",
        "  plt.quiver(x, z, X, Z, angles='xy', scale_units='xy', scale=1, color='red')\n",
        "  plt.title(f'Vector de desplazamiento para Y={Y}[m], en el plano XZ')\n",
        "  plt.xlabel(r'$\\hat{U}_x$ [m]')\n",
        "  plt.ylabel(r'$\\hat{U}_z$ [m]')\n",
        "  plt.xlim([0, 4])\n",
        "  plt.ylim([0, 0.4])\n",
        "  plt.grid()\n",
        "  plt.show()"
      ]
    },
    {
      "cell_type": "markdown",
      "metadata": {},
      "source": [
        "Al igual que para el plano x,y la dependecia del plano XZ de la coordenada Y es muy baja por tanto no se observa una variación en el gráfico"
      ]
    },
    {
      "cell_type": "markdown",
      "metadata": {},
      "source": [
        "Ahora veamos la animación pero par el plano YZ"
      ]
    },
    {
      "cell_type": "code",
      "execution_count": 86,
      "metadata": {},
      "outputs": [
        {
          "data": {
            "application/vnd.jupyter.widget-view+json": {
              "model_id": "7ddc8331f3544cbb87ff9eeafabad98c",
              "version_major": 2,
              "version_minor": 0
            },
            "text/plain": [
              "interactive(children=(FloatSlider(value=1.0, description='X', max=2.0, step=0.01), Output()), _dom_classes=('w…"
            ]
          },
          "metadata": {},
          "output_type": "display_data"
        }
      ],
      "source": [
        "@interact\n",
        "def constante_jacobi_grafico(X = (0, 2, 0.01)):\n",
        "  Y_range = np.linspace(0, 1, 7)  # Range for X\n",
        "  Z_range = np.linspace(0, 0.2, 7)  # Range for Z\n",
        "  Y, Z = np.meshgrid(Y_range, Z_range)  # Create meshgrid\n",
        "\n",
        "  # Calculate initial vectors\n",
        "  y = displacement_y(X, Y, Z) \n",
        "  z = displacement_z(X, Y, Z) \n",
        "\n",
        "  # Plot vector field for the XY plane\n",
        "  plt.figure(figsize=(10, 5))\n",
        "  plt.plot(Y, Z, 'o', color='black')\n",
        "\n",
        "  plt.quiver(y, z, Y, Z, angles='xy', scale_units='xy', scale=1, color='blue')\n",
        "  plt.title(f'Vector de desplazamiento para X={X}[m], en el plano YZ')\n",
        "  plt.xlabel(r'$\\hat{U}_y$ [m]')\n",
        "  plt.ylabel(r'$\\hat{U}_z$ [m]')\n",
        "  plt.xlim([0, 2])\n",
        "  plt.ylim([0, 0.4])\n",
        "  plt.grid()\n",
        "  plt.show()"
      ]
    },
    {
      "cell_type": "markdown",
      "metadata": {},
      "source": [
        "Si nos movemos entre los dos extremos de losvalores posible para X podemos darnos cuenta que el gráfico cambia ligeramente en relación al ejez del desplazamiento, y esto es curioso porque la dependencia de Z con la coordenada x contiene un paramétro menor a los de los anteriores gráficos, sin embargo al eje x tener un mayor rango de variación consigue un valor máximo más grande, y al aumentar cuadráticamente hace que su influencia sea mayor sobre las otras coordenadas aún teniendo el parámetro más pequeño de todas las relaciones entre los diferentes ejes posibles"
      ]
    },
    {
      "cell_type": "markdown",
      "metadata": {},
      "source": [
        "2. Calcular el campo tensorial de deformaciones (pequeñas) dentro de la lámina, $u_{ij}$ como función de $\\vec X$. Si se diagonaliza el tensor de deformaciones, es posible encontrar en cada punto las denominadas deformaciones principales (autovalores del tensor), $\\epsilon_1, \\epsilon_2, \\epsilon_3$ (de menor a mayor de acuerdo con su valor absoluto) y las direcciones principales de deformación (autovectores normalizados), $\\hat e_{u1}, \\hat e_{u2}, \\hat e_{u3}$. Escriba un código interactivo que permita variar el valor de $X, Y, Z$ y que muestre, en un gráfico en 3-D, las direcciones principales de deformación (son 3 vectores ortogonales) en ese punto de la lámina, de modo que el tamaño de cada vector sea proporcional al valor absoluto de la deformación principal correspondiente. Juegue con el código y comente lo que observa."
      ]
    },
    {
      "cell_type": "markdown",
      "metadata": {},
      "source": [
        "El vector de desplazamiento, esta  dado por:\n",
        "$$\n",
        "\\vec{u} = \\vec{\\tilde{x}}(\\vec{X}) - \\vec{X}\n",
        "$$"
      ]
    },
    {
      "cell_type": "code",
      "execution_count": 87,
      "metadata": {},
      "outputs": [
        {
          "data": {
            "text/latex": [
              "$\\displaystyle \\left[\\begin{matrix}0.0002 X^{2} + 0.001 Y - 0.002 Z\\\\- 0.0002 Y^{2} + 0.001 Y + 0.004 Z\\\\0.0003 X^{2} + 0.0004 Y - 0.002 Z\\end{matrix}\\right]$"
            ],
            "text/plain": [
              "Matrix([\n",
              "[ 0.0002*X**2 + 0.001*Y - 0.002*Z],\n",
              "[-0.0002*Y**2 + 0.001*Y + 0.004*Z],\n",
              "[0.0003*X**2 + 0.0004*Y - 0.002*Z]])"
            ]
          },
          "execution_count": 87,
          "metadata": {},
          "output_type": "execute_result"
        }
      ],
      "source": [
        "import sympy as sp\n",
        "\n",
        "# Definir las variables simbólicas\n",
        "X, Y, Z = sp.symbols('X Y Z')\n",
        "\n",
        "# Definir las funciones de desplazamiento\n",
        "x_disp = X + 0.001*Y + 0.0002*X**2 - 0.002*Z\n",
        "y_disp = 1.001*Y - 0.0002*Y**2 + 0.004*Z\n",
        "z_disp = 0.0003*X**2 + 0.0004*Y + 0.998*Z\n",
        "\n",
        "# Crear el vector de desplazamiento como una matriz\n",
        "displacement_vector = sp.Matrix([[x_disp - X], [y_disp - Y], [z_disp - Z]])\n",
        "\n",
        "# Evaluar los elementos de la matriz a decimales con 4 cifras significativas\n",
        "decimal_vector = displacement_vector.applyfunc(lambda x: x.evalf(4))\n",
        "\n",
        "decimal_vector\n",
        "\n"
      ]
    },
    {
      "cell_type": "markdown",
      "metadata": {},
      "source": [
        "A partir de este vector de desplazamiento, podemos obtener el tensor de deformaciones pequeñas, dado por la siguiente expresión de cauchy:\n",
        "$$\n",
        "u_{ij} = \\frac{1}{2} (\\nabla_i u_j + \\nabla_j u_i)\n",
        "$$\n"
      ]
    },
    {
      "cell_type": "code",
      "execution_count": 88,
      "metadata": {},
      "outputs": [
        {
          "data": {
            "text/latex": [
              "$\\displaystyle \\left[\\begin{matrix}0.0004 X & 0.0005 & 0.0003 X - 0.001\\\\0.0005 & 0.001 - 0.0004 Y & 0.0022\\\\0.0003 X - 0.001 & 0.0022 & -0.002\\end{matrix}\\right]$"
            ],
            "text/plain": [
              "Matrix([\n",
              "[        0.0004*X,           0.0005, 0.0003*X - 0.001],\n",
              "[          0.0005, 0.001 - 0.0004*Y,           0.0022],\n",
              "[0.0003*X - 0.001,           0.0022,           -0.002]])"
            ]
          },
          "execution_count": 88,
          "metadata": {},
          "output_type": "execute_result"
        }
      ],
      "source": [
        "# Inicializar una matriz para el tensor de deformaciones\n",
        "deformation_tensor = sp.zeros(3, 3)\n",
        "\n",
        "# Calcular las derivadas para cada componente del tensor de deformaciones\n",
        "for i in range(3):\n",
        "    for j in range(3):\n",
        "        # Seleccionar la componente de desplazamiento adecuada\n",
        "        ui = displacement_vector[i]\n",
        "        uj = displacement_vector[j]\n",
        "        \n",
        "        # Calcular la derivada parcial de la componente de desplazamiento\n",
        "        first_partial_derivative = ui.diff([X, Y, Z][j])\n",
        "        second_partial_derivative = uj.diff([X, Y, Z][i])\n",
        "        \n",
        "        # Simetrizar el tensor\n",
        "        deformation_tensor[i, j] = (first_partial_derivative + second_partial_derivative) / 2\n",
        "\n",
        "deformation_tensor = deformation_tensor.applyfunc(lambda x: x.evalf(4))\n",
        "\n",
        "deformation_tensor"
      ]
    },
    {
      "cell_type": "code",
      "execution_count": 94,
      "metadata": {},
      "outputs": [],
      "source": [
        "def eigen_information_for_a_point_and_reescale(X_value, Y_value, Z_value, matrix=deformation_tensor):\n",
        "    \"\"\"\n",
        "    \"\"\"\n",
        "    # Values to substitute into the matrix\n",
        "    values_to_substitute = {X: X_value, Y: Y_value, Z: Z_value}\n",
        "\n",
        "    # Substitute values into the matrix\n",
        "    numeric_matrix = matrix.subs(values_to_substitute)\n",
        "\n",
        "    # Convert to a numerical matrix with decimal numbers\n",
        "    numeric_matrix_evaluated = numeric_matrix.evalf()\n",
        "\n",
        "    # Diagonalize the numerical matrix\n",
        "    eigenvalues_vectors_values = numeric_matrix_evaluated.eigenvects()  # Retorna una lista de tuplas con valores propios, multiplicidad y vectores propios correspondientes\n",
        "\n",
        "    # Normalize and reescale the eigenvectors\n",
        "    reescaled_vectors = []\n",
        "\n",
        "    for i in eigenvalues_vectors_values:\n",
        "        eigenvector = i[2][0]\n",
        "        eigenvector_normal = eigenvector / eigenvector.norm()\n",
        "        reescaled_eigenvector = eigenvector_normal * abs(i[0])*1000 # Reescalado dependiendo del Eigen valor\n",
        "\n",
        "        reescaled_vectors.append(reescaled_eigenvector)\n",
        "\n",
        "    return reescaled_vectors"
      ]
    },
    {
      "cell_type": "code",
      "execution_count": 101,
      "metadata": {},
      "outputs": [
        {
          "data": {
            "application/vnd.jupyter.widget-view+json": {
              "model_id": "0441a5b403f64822b5dc85d5cc409de5",
              "version_major": 2,
              "version_minor": 0
            },
            "text/plain": [
              "interactive(children=(FloatSlider(value=1.0, description='X_val', max=2.0, step=0.01), FloatSlider(value=0.0, …"
            ]
          },
          "metadata": {},
          "output_type": "display_data"
        }
      ],
      "source": [
        "import numpy as np\n",
        "import plotly.graph_objects as go\n",
        "from ipywidgets import interactive\n",
        "from IPython.display import display\n",
        "\n",
        "# Inicializar el gráfico en 3D como un FigureWidget fuera de la función\n",
        "fig = go.FigureWidget()\n",
        "\n",
        "# Agregar un trazado vacío inicialmente (será actualizado más tarde)\n",
        "fig.add_scatter3d()\n",
        "\n",
        "# Configuración inicial del layout del gráfico\n",
        "fig.update_layout(\n",
        "    scene=dict(\n",
        "        xaxis=dict(nticks=4, range=[0, 2]),\n",
        "        yaxis=dict(nticks=4, range=[0, 2]),\n",
        "        zaxis=dict(nticks=4, range=[0, 2]),\n",
        "        aspectratio=dict(x=1, y=1, z=1)\n",
        "    ),\n",
        "    margin=dict(t=0, l=0, r=0, b=0)\n",
        ")\n",
        "\n",
        "\n",
        "\n",
        "# Función para actualizar el gráfico basado en los valores de entrada\n",
        "def plot_deformation_directions(X_val, Y_val, Z_val):\n",
        "    reescaled_eigenvectors = eigen_information_for_a_point_and_reescale(X_val, Y_val, Z_val)\n",
        "    \n",
        "    # Origen de los vectores\n",
        "    origin = np.array([X_val, Y_val, Z_val])\n",
        "\n",
        "    # Limpiar trazados anteriores\n",
        "    while len(fig.data) > 0:\n",
        "        fig.data = fig.data[:-1]\n",
        "    \n",
        "    # Componentes de cada vector en cada dirección x, y, y z\n",
        "    u, v, w = zip(*reescaled_eigenvectors)\n",
        "\n",
        "    # Agregar los nuevos trazados\n",
        "    for i in range(len(u)):\n",
        "        fig.add_scatter3d(x=[origin[0], origin[0] + u[i]], y=[origin[1], origin[1] + v[i]], z=[origin[2], origin[2] + w[i]],\n",
        "                          mode='lines', line=dict(color='blue', width=5))\n",
        "    \n",
        "    # Agregar conos en la punta de cada vector para simular la cabeza de la flecha\n",
        "    fig.add_trace(go.Cone(x=[origin[0] + ui for ui in u], y=[origin[1] + vi for vi in v], z=[origin[2] + wi for wi in w],\n",
        "                        u=u, v=v, w=w,\n",
        "                        sizemode=\"absolute\", sizeref=0.1, colorscale=[[0, 'blue'], [1, 'blue']]))\n",
        "\n",
        "    display(fig)\n",
        "\n",
        "# Crear el control interactivo\n",
        "interactive_plot = interactive(plot_deformation_directions, X_val=(0, 2, 0.01), Y_val=(0, 1, 0.01), Z_val=(0, 0.2, 0.01))\n",
        "display(interactive_plot)\n"
      ]
    },
    {
      "cell_type": "code",
      "execution_count": 92,
      "metadata": {},
      "outputs": [
        {
          "data": {
            "application/vnd.plotly.v1+json": {
              "config": {
                "plotlyServerURL": "https://plot.ly"
              },
              "data": [
                {
                  "line": {
                    "color": "blue",
                    "width": 5
                  },
                  "mode": "lines",
                  "type": "scatter3d",
                  "x": [
                    1,
                    2
                  ],
                  "y": [
                    1,
                    1
                  ],
                  "z": [
                    1,
                    1
                  ]
                },
                {
                  "line": {
                    "color": "blue",
                    "width": 5
                  },
                  "mode": "lines",
                  "type": "scatter3d",
                  "x": [
                    1,
                    1
                  ],
                  "y": [
                    1,
                    2
                  ],
                  "z": [
                    1,
                    1
                  ]
                },
                {
                  "line": {
                    "color": "blue",
                    "width": 5
                  },
                  "mode": "lines",
                  "type": "scatter3d",
                  "x": [
                    1,
                    1
                  ],
                  "y": [
                    1,
                    1
                  ],
                  "z": [
                    1,
                    2
                  ]
                },
                {
                  "colorscale": [
                    [
                      0,
                      "blue"
                    ],
                    [
                      1,
                      "blue"
                    ]
                  ],
                  "sizemode": "absolute",
                  "sizeref": 0.1,
                  "type": "cone",
                  "u": [
                    1,
                    0,
                    0
                  ],
                  "v": [
                    0,
                    1,
                    0
                  ],
                  "w": [
                    0,
                    0,
                    1
                  ],
                  "x": [
                    2,
                    1,
                    1
                  ],
                  "y": [
                    1,
                    2,
                    1
                  ],
                  "z": [
                    1,
                    1,
                    2
                  ]
                }
              ],
              "layout": {
                "margin": {
                  "b": 0,
                  "l": 0,
                  "r": 0,
                  "t": 0
                },
                "scene": {
                  "aspectratio": {
                    "x": 1,
                    "y": 1,
                    "z": 1
                  },
                  "xaxis": {
                    "nticks": 4,
                    "range": [
                      0,
                      2
                    ]
                  },
                  "yaxis": {
                    "nticks": 4,
                    "range": [
                      0,
                      2
                    ]
                  },
                  "zaxis": {
                    "nticks": 4,
                    "range": [
                      0,
                      2
                    ]
                  }
                },
                "template": {
                  "data": {
                    "bar": [
                      {
                        "error_x": {
                          "color": "#2a3f5f"
                        },
                        "error_y": {
                          "color": "#2a3f5f"
                        },
                        "marker": {
                          "line": {
                            "color": "#E5ECF6",
                            "width": 0.5
                          },
                          "pattern": {
                            "fillmode": "overlay",
                            "size": 10,
                            "solidity": 0.2
                          }
                        },
                        "type": "bar"
                      }
                    ],
                    "barpolar": [
                      {
                        "marker": {
                          "line": {
                            "color": "#E5ECF6",
                            "width": 0.5
                          },
                          "pattern": {
                            "fillmode": "overlay",
                            "size": 10,
                            "solidity": 0.2
                          }
                        },
                        "type": "barpolar"
                      }
                    ],
                    "carpet": [
                      {
                        "aaxis": {
                          "endlinecolor": "#2a3f5f",
                          "gridcolor": "white",
                          "linecolor": "white",
                          "minorgridcolor": "white",
                          "startlinecolor": "#2a3f5f"
                        },
                        "baxis": {
                          "endlinecolor": "#2a3f5f",
                          "gridcolor": "white",
                          "linecolor": "white",
                          "minorgridcolor": "white",
                          "startlinecolor": "#2a3f5f"
                        },
                        "type": "carpet"
                      }
                    ],
                    "choropleth": [
                      {
                        "colorbar": {
                          "outlinewidth": 0,
                          "ticks": ""
                        },
                        "type": "choropleth"
                      }
                    ],
                    "contour": [
                      {
                        "colorbar": {
                          "outlinewidth": 0,
                          "ticks": ""
                        },
                        "colorscale": [
                          [
                            0,
                            "#0d0887"
                          ],
                          [
                            0.1111111111111111,
                            "#46039f"
                          ],
                          [
                            0.2222222222222222,
                            "#7201a8"
                          ],
                          [
                            0.3333333333333333,
                            "#9c179e"
                          ],
                          [
                            0.4444444444444444,
                            "#bd3786"
                          ],
                          [
                            0.5555555555555556,
                            "#d8576b"
                          ],
                          [
                            0.6666666666666666,
                            "#ed7953"
                          ],
                          [
                            0.7777777777777778,
                            "#fb9f3a"
                          ],
                          [
                            0.8888888888888888,
                            "#fdca26"
                          ],
                          [
                            1,
                            "#f0f921"
                          ]
                        ],
                        "type": "contour"
                      }
                    ],
                    "contourcarpet": [
                      {
                        "colorbar": {
                          "outlinewidth": 0,
                          "ticks": ""
                        },
                        "type": "contourcarpet"
                      }
                    ],
                    "heatmap": [
                      {
                        "colorbar": {
                          "outlinewidth": 0,
                          "ticks": ""
                        },
                        "colorscale": [
                          [
                            0,
                            "#0d0887"
                          ],
                          [
                            0.1111111111111111,
                            "#46039f"
                          ],
                          [
                            0.2222222222222222,
                            "#7201a8"
                          ],
                          [
                            0.3333333333333333,
                            "#9c179e"
                          ],
                          [
                            0.4444444444444444,
                            "#bd3786"
                          ],
                          [
                            0.5555555555555556,
                            "#d8576b"
                          ],
                          [
                            0.6666666666666666,
                            "#ed7953"
                          ],
                          [
                            0.7777777777777778,
                            "#fb9f3a"
                          ],
                          [
                            0.8888888888888888,
                            "#fdca26"
                          ],
                          [
                            1,
                            "#f0f921"
                          ]
                        ],
                        "type": "heatmap"
                      }
                    ],
                    "heatmapgl": [
                      {
                        "colorbar": {
                          "outlinewidth": 0,
                          "ticks": ""
                        },
                        "colorscale": [
                          [
                            0,
                            "#0d0887"
                          ],
                          [
                            0.1111111111111111,
                            "#46039f"
                          ],
                          [
                            0.2222222222222222,
                            "#7201a8"
                          ],
                          [
                            0.3333333333333333,
                            "#9c179e"
                          ],
                          [
                            0.4444444444444444,
                            "#bd3786"
                          ],
                          [
                            0.5555555555555556,
                            "#d8576b"
                          ],
                          [
                            0.6666666666666666,
                            "#ed7953"
                          ],
                          [
                            0.7777777777777778,
                            "#fb9f3a"
                          ],
                          [
                            0.8888888888888888,
                            "#fdca26"
                          ],
                          [
                            1,
                            "#f0f921"
                          ]
                        ],
                        "type": "heatmapgl"
                      }
                    ],
                    "histogram": [
                      {
                        "marker": {
                          "pattern": {
                            "fillmode": "overlay",
                            "size": 10,
                            "solidity": 0.2
                          }
                        },
                        "type": "histogram"
                      }
                    ],
                    "histogram2d": [
                      {
                        "colorbar": {
                          "outlinewidth": 0,
                          "ticks": ""
                        },
                        "colorscale": [
                          [
                            0,
                            "#0d0887"
                          ],
                          [
                            0.1111111111111111,
                            "#46039f"
                          ],
                          [
                            0.2222222222222222,
                            "#7201a8"
                          ],
                          [
                            0.3333333333333333,
                            "#9c179e"
                          ],
                          [
                            0.4444444444444444,
                            "#bd3786"
                          ],
                          [
                            0.5555555555555556,
                            "#d8576b"
                          ],
                          [
                            0.6666666666666666,
                            "#ed7953"
                          ],
                          [
                            0.7777777777777778,
                            "#fb9f3a"
                          ],
                          [
                            0.8888888888888888,
                            "#fdca26"
                          ],
                          [
                            1,
                            "#f0f921"
                          ]
                        ],
                        "type": "histogram2d"
                      }
                    ],
                    "histogram2dcontour": [
                      {
                        "colorbar": {
                          "outlinewidth": 0,
                          "ticks": ""
                        },
                        "colorscale": [
                          [
                            0,
                            "#0d0887"
                          ],
                          [
                            0.1111111111111111,
                            "#46039f"
                          ],
                          [
                            0.2222222222222222,
                            "#7201a8"
                          ],
                          [
                            0.3333333333333333,
                            "#9c179e"
                          ],
                          [
                            0.4444444444444444,
                            "#bd3786"
                          ],
                          [
                            0.5555555555555556,
                            "#d8576b"
                          ],
                          [
                            0.6666666666666666,
                            "#ed7953"
                          ],
                          [
                            0.7777777777777778,
                            "#fb9f3a"
                          ],
                          [
                            0.8888888888888888,
                            "#fdca26"
                          ],
                          [
                            1,
                            "#f0f921"
                          ]
                        ],
                        "type": "histogram2dcontour"
                      }
                    ],
                    "mesh3d": [
                      {
                        "colorbar": {
                          "outlinewidth": 0,
                          "ticks": ""
                        },
                        "type": "mesh3d"
                      }
                    ],
                    "parcoords": [
                      {
                        "line": {
                          "colorbar": {
                            "outlinewidth": 0,
                            "ticks": ""
                          }
                        },
                        "type": "parcoords"
                      }
                    ],
                    "pie": [
                      {
                        "automargin": true,
                        "type": "pie"
                      }
                    ],
                    "scatter": [
                      {
                        "fillpattern": {
                          "fillmode": "overlay",
                          "size": 10,
                          "solidity": 0.2
                        },
                        "type": "scatter"
                      }
                    ],
                    "scatter3d": [
                      {
                        "line": {
                          "colorbar": {
                            "outlinewidth": 0,
                            "ticks": ""
                          }
                        },
                        "marker": {
                          "colorbar": {
                            "outlinewidth": 0,
                            "ticks": ""
                          }
                        },
                        "type": "scatter3d"
                      }
                    ],
                    "scattercarpet": [
                      {
                        "marker": {
                          "colorbar": {
                            "outlinewidth": 0,
                            "ticks": ""
                          }
                        },
                        "type": "scattercarpet"
                      }
                    ],
                    "scattergeo": [
                      {
                        "marker": {
                          "colorbar": {
                            "outlinewidth": 0,
                            "ticks": ""
                          }
                        },
                        "type": "scattergeo"
                      }
                    ],
                    "scattergl": [
                      {
                        "marker": {
                          "colorbar": {
                            "outlinewidth": 0,
                            "ticks": ""
                          }
                        },
                        "type": "scattergl"
                      }
                    ],
                    "scattermapbox": [
                      {
                        "marker": {
                          "colorbar": {
                            "outlinewidth": 0,
                            "ticks": ""
                          }
                        },
                        "type": "scattermapbox"
                      }
                    ],
                    "scatterpolar": [
                      {
                        "marker": {
                          "colorbar": {
                            "outlinewidth": 0,
                            "ticks": ""
                          }
                        },
                        "type": "scatterpolar"
                      }
                    ],
                    "scatterpolargl": [
                      {
                        "marker": {
                          "colorbar": {
                            "outlinewidth": 0,
                            "ticks": ""
                          }
                        },
                        "type": "scatterpolargl"
                      }
                    ],
                    "scatterternary": [
                      {
                        "marker": {
                          "colorbar": {
                            "outlinewidth": 0,
                            "ticks": ""
                          }
                        },
                        "type": "scatterternary"
                      }
                    ],
                    "surface": [
                      {
                        "colorbar": {
                          "outlinewidth": 0,
                          "ticks": ""
                        },
                        "colorscale": [
                          [
                            0,
                            "#0d0887"
                          ],
                          [
                            0.1111111111111111,
                            "#46039f"
                          ],
                          [
                            0.2222222222222222,
                            "#7201a8"
                          ],
                          [
                            0.3333333333333333,
                            "#9c179e"
                          ],
                          [
                            0.4444444444444444,
                            "#bd3786"
                          ],
                          [
                            0.5555555555555556,
                            "#d8576b"
                          ],
                          [
                            0.6666666666666666,
                            "#ed7953"
                          ],
                          [
                            0.7777777777777778,
                            "#fb9f3a"
                          ],
                          [
                            0.8888888888888888,
                            "#fdca26"
                          ],
                          [
                            1,
                            "#f0f921"
                          ]
                        ],
                        "type": "surface"
                      }
                    ],
                    "table": [
                      {
                        "cells": {
                          "fill": {
                            "color": "#EBF0F8"
                          },
                          "line": {
                            "color": "white"
                          }
                        },
                        "header": {
                          "fill": {
                            "color": "#C8D4E3"
                          },
                          "line": {
                            "color": "white"
                          }
                        },
                        "type": "table"
                      }
                    ]
                  },
                  "layout": {
                    "annotationdefaults": {
                      "arrowcolor": "#2a3f5f",
                      "arrowhead": 0,
                      "arrowwidth": 1
                    },
                    "autotypenumbers": "strict",
                    "coloraxis": {
                      "colorbar": {
                        "outlinewidth": 0,
                        "ticks": ""
                      }
                    },
                    "colorscale": {
                      "diverging": [
                        [
                          0,
                          "#8e0152"
                        ],
                        [
                          0.1,
                          "#c51b7d"
                        ],
                        [
                          0.2,
                          "#de77ae"
                        ],
                        [
                          0.3,
                          "#f1b6da"
                        ],
                        [
                          0.4,
                          "#fde0ef"
                        ],
                        [
                          0.5,
                          "#f7f7f7"
                        ],
                        [
                          0.6,
                          "#e6f5d0"
                        ],
                        [
                          0.7,
                          "#b8e186"
                        ],
                        [
                          0.8,
                          "#7fbc41"
                        ],
                        [
                          0.9,
                          "#4d9221"
                        ],
                        [
                          1,
                          "#276419"
                        ]
                      ],
                      "sequential": [
                        [
                          0,
                          "#0d0887"
                        ],
                        [
                          0.1111111111111111,
                          "#46039f"
                        ],
                        [
                          0.2222222222222222,
                          "#7201a8"
                        ],
                        [
                          0.3333333333333333,
                          "#9c179e"
                        ],
                        [
                          0.4444444444444444,
                          "#bd3786"
                        ],
                        [
                          0.5555555555555556,
                          "#d8576b"
                        ],
                        [
                          0.6666666666666666,
                          "#ed7953"
                        ],
                        [
                          0.7777777777777778,
                          "#fb9f3a"
                        ],
                        [
                          0.8888888888888888,
                          "#fdca26"
                        ],
                        [
                          1,
                          "#f0f921"
                        ]
                      ],
                      "sequentialminus": [
                        [
                          0,
                          "#0d0887"
                        ],
                        [
                          0.1111111111111111,
                          "#46039f"
                        ],
                        [
                          0.2222222222222222,
                          "#7201a8"
                        ],
                        [
                          0.3333333333333333,
                          "#9c179e"
                        ],
                        [
                          0.4444444444444444,
                          "#bd3786"
                        ],
                        [
                          0.5555555555555556,
                          "#d8576b"
                        ],
                        [
                          0.6666666666666666,
                          "#ed7953"
                        ],
                        [
                          0.7777777777777778,
                          "#fb9f3a"
                        ],
                        [
                          0.8888888888888888,
                          "#fdca26"
                        ],
                        [
                          1,
                          "#f0f921"
                        ]
                      ]
                    },
                    "colorway": [
                      "#636efa",
                      "#EF553B",
                      "#00cc96",
                      "#ab63fa",
                      "#FFA15A",
                      "#19d3f3",
                      "#FF6692",
                      "#B6E880",
                      "#FF97FF",
                      "#FECB52"
                    ],
                    "font": {
                      "color": "#2a3f5f"
                    },
                    "geo": {
                      "bgcolor": "white",
                      "lakecolor": "white",
                      "landcolor": "#E5ECF6",
                      "showlakes": true,
                      "showland": true,
                      "subunitcolor": "white"
                    },
                    "hoverlabel": {
                      "align": "left"
                    },
                    "hovermode": "closest",
                    "mapbox": {
                      "style": "light"
                    },
                    "paper_bgcolor": "white",
                    "plot_bgcolor": "#E5ECF6",
                    "polar": {
                      "angularaxis": {
                        "gridcolor": "white",
                        "linecolor": "white",
                        "ticks": ""
                      },
                      "bgcolor": "#E5ECF6",
                      "radialaxis": {
                        "gridcolor": "white",
                        "linecolor": "white",
                        "ticks": ""
                      }
                    },
                    "scene": {
                      "xaxis": {
                        "backgroundcolor": "#E5ECF6",
                        "gridcolor": "white",
                        "gridwidth": 2,
                        "linecolor": "white",
                        "showbackground": true,
                        "ticks": "",
                        "zerolinecolor": "white"
                      },
                      "yaxis": {
                        "backgroundcolor": "#E5ECF6",
                        "gridcolor": "white",
                        "gridwidth": 2,
                        "linecolor": "white",
                        "showbackground": true,
                        "ticks": "",
                        "zerolinecolor": "white"
                      },
                      "zaxis": {
                        "backgroundcolor": "#E5ECF6",
                        "gridcolor": "white",
                        "gridwidth": 2,
                        "linecolor": "white",
                        "showbackground": true,
                        "ticks": "",
                        "zerolinecolor": "white"
                      }
                    },
                    "shapedefaults": {
                      "line": {
                        "color": "#2a3f5f"
                      }
                    },
                    "ternary": {
                      "aaxis": {
                        "gridcolor": "white",
                        "linecolor": "white",
                        "ticks": ""
                      },
                      "baxis": {
                        "gridcolor": "white",
                        "linecolor": "white",
                        "ticks": ""
                      },
                      "bgcolor": "#E5ECF6",
                      "caxis": {
                        "gridcolor": "white",
                        "linecolor": "white",
                        "ticks": ""
                      }
                    },
                    "title": {
                      "x": 0.05
                    },
                    "xaxis": {
                      "automargin": true,
                      "gridcolor": "white",
                      "linecolor": "white",
                      "ticks": "",
                      "title": {
                        "standoff": 15
                      },
                      "zerolinecolor": "white",
                      "zerolinewidth": 2
                    },
                    "yaxis": {
                      "automargin": true,
                      "gridcolor": "white",
                      "linecolor": "white",
                      "ticks": "",
                      "title": {
                        "standoff": 15
                      },
                      "zerolinecolor": "white",
                      "zerolinewidth": 2
                    }
                  }
                }
              }
            },
            "text/html": [
              "<div>                            <div id=\"4c24d91c-3263-4499-8e7c-a0475507dd73\" class=\"plotly-graph-div\" style=\"height:525px; width:100%;\"></div>            <script type=\"text/javascript\">                require([\"plotly\"], function(Plotly) {                    window.PLOTLYENV=window.PLOTLYENV || {};                                    if (document.getElementById(\"4c24d91c-3263-4499-8e7c-a0475507dd73\")) {                    Plotly.newPlot(                        \"4c24d91c-3263-4499-8e7c-a0475507dd73\",                        [{\"line\":{\"color\":\"blue\",\"width\":5},\"mode\":\"lines\",\"x\":[1,2],\"y\":[1,1],\"z\":[1,1],\"type\":\"scatter3d\"},{\"line\":{\"color\":\"blue\",\"width\":5},\"mode\":\"lines\",\"x\":[1,1],\"y\":[1,2],\"z\":[1,1],\"type\":\"scatter3d\"},{\"line\":{\"color\":\"blue\",\"width\":5},\"mode\":\"lines\",\"x\":[1,1],\"y\":[1,1],\"z\":[1,2],\"type\":\"scatter3d\"},{\"colorscale\":[[0,\"blue\"],[1,\"blue\"]],\"sizemode\":\"absolute\",\"sizeref\":0.1,\"u\":[1,0,0],\"v\":[0,1,0],\"w\":[0,0,1],\"x\":[2,1,1],\"y\":[1,2,1],\"z\":[1,1,2],\"type\":\"cone\"}],                        {\"template\":{\"data\":{\"histogram2dcontour\":[{\"type\":\"histogram2dcontour\",\"colorbar\":{\"outlinewidth\":0,\"ticks\":\"\"},\"colorscale\":[[0.0,\"#0d0887\"],[0.1111111111111111,\"#46039f\"],[0.2222222222222222,\"#7201a8\"],[0.3333333333333333,\"#9c179e\"],[0.4444444444444444,\"#bd3786\"],[0.5555555555555556,\"#d8576b\"],[0.6666666666666666,\"#ed7953\"],[0.7777777777777778,\"#fb9f3a\"],[0.8888888888888888,\"#fdca26\"],[1.0,\"#f0f921\"]]}],\"choropleth\":[{\"type\":\"choropleth\",\"colorbar\":{\"outlinewidth\":0,\"ticks\":\"\"}}],\"histogram2d\":[{\"type\":\"histogram2d\",\"colorbar\":{\"outlinewidth\":0,\"ticks\":\"\"},\"colorscale\":[[0.0,\"#0d0887\"],[0.1111111111111111,\"#46039f\"],[0.2222222222222222,\"#7201a8\"],[0.3333333333333333,\"#9c179e\"],[0.4444444444444444,\"#bd3786\"],[0.5555555555555556,\"#d8576b\"],[0.6666666666666666,\"#ed7953\"],[0.7777777777777778,\"#fb9f3a\"],[0.8888888888888888,\"#fdca26\"],[1.0,\"#f0f921\"]]}],\"heatmap\":[{\"type\":\"heatmap\",\"colorbar\":{\"outlinewidth\":0,\"ticks\":\"\"},\"colorscale\":[[0.0,\"#0d0887\"],[0.1111111111111111,\"#46039f\"],[0.2222222222222222,\"#7201a8\"],[0.3333333333333333,\"#9c179e\"],[0.4444444444444444,\"#bd3786\"],[0.5555555555555556,\"#d8576b\"],[0.6666666666666666,\"#ed7953\"],[0.7777777777777778,\"#fb9f3a\"],[0.8888888888888888,\"#fdca26\"],[1.0,\"#f0f921\"]]}],\"heatmapgl\":[{\"type\":\"heatmapgl\",\"colorbar\":{\"outlinewidth\":0,\"ticks\":\"\"},\"colorscale\":[[0.0,\"#0d0887\"],[0.1111111111111111,\"#46039f\"],[0.2222222222222222,\"#7201a8\"],[0.3333333333333333,\"#9c179e\"],[0.4444444444444444,\"#bd3786\"],[0.5555555555555556,\"#d8576b\"],[0.6666666666666666,\"#ed7953\"],[0.7777777777777778,\"#fb9f3a\"],[0.8888888888888888,\"#fdca26\"],[1.0,\"#f0f921\"]]}],\"contourcarpet\":[{\"type\":\"contourcarpet\",\"colorbar\":{\"outlinewidth\":0,\"ticks\":\"\"}}],\"contour\":[{\"type\":\"contour\",\"colorbar\":{\"outlinewidth\":0,\"ticks\":\"\"},\"colorscale\":[[0.0,\"#0d0887\"],[0.1111111111111111,\"#46039f\"],[0.2222222222222222,\"#7201a8\"],[0.3333333333333333,\"#9c179e\"],[0.4444444444444444,\"#bd3786\"],[0.5555555555555556,\"#d8576b\"],[0.6666666666666666,\"#ed7953\"],[0.7777777777777778,\"#fb9f3a\"],[0.8888888888888888,\"#fdca26\"],[1.0,\"#f0f921\"]]}],\"surface\":[{\"type\":\"surface\",\"colorbar\":{\"outlinewidth\":0,\"ticks\":\"\"},\"colorscale\":[[0.0,\"#0d0887\"],[0.1111111111111111,\"#46039f\"],[0.2222222222222222,\"#7201a8\"],[0.3333333333333333,\"#9c179e\"],[0.4444444444444444,\"#bd3786\"],[0.5555555555555556,\"#d8576b\"],[0.6666666666666666,\"#ed7953\"],[0.7777777777777778,\"#fb9f3a\"],[0.8888888888888888,\"#fdca26\"],[1.0,\"#f0f921\"]]}],\"mesh3d\":[{\"type\":\"mesh3d\",\"colorbar\":{\"outlinewidth\":0,\"ticks\":\"\"}}],\"scatter\":[{\"fillpattern\":{\"fillmode\":\"overlay\",\"size\":10,\"solidity\":0.2},\"type\":\"scatter\"}],\"parcoords\":[{\"type\":\"parcoords\",\"line\":{\"colorbar\":{\"outlinewidth\":0,\"ticks\":\"\"}}}],\"scatterpolargl\":[{\"type\":\"scatterpolargl\",\"marker\":{\"colorbar\":{\"outlinewidth\":0,\"ticks\":\"\"}}}],\"bar\":[{\"error_x\":{\"color\":\"#2a3f5f\"},\"error_y\":{\"color\":\"#2a3f5f\"},\"marker\":{\"line\":{\"color\":\"#E5ECF6\",\"width\":0.5},\"pattern\":{\"fillmode\":\"overlay\",\"size\":10,\"solidity\":0.2}},\"type\":\"bar\"}],\"scattergeo\":[{\"type\":\"scattergeo\",\"marker\":{\"colorbar\":{\"outlinewidth\":0,\"ticks\":\"\"}}}],\"scatterpolar\":[{\"type\":\"scatterpolar\",\"marker\":{\"colorbar\":{\"outlinewidth\":0,\"ticks\":\"\"}}}],\"histogram\":[{\"marker\":{\"pattern\":{\"fillmode\":\"overlay\",\"size\":10,\"solidity\":0.2}},\"type\":\"histogram\"}],\"scattergl\":[{\"type\":\"scattergl\",\"marker\":{\"colorbar\":{\"outlinewidth\":0,\"ticks\":\"\"}}}],\"scatter3d\":[{\"type\":\"scatter3d\",\"line\":{\"colorbar\":{\"outlinewidth\":0,\"ticks\":\"\"}},\"marker\":{\"colorbar\":{\"outlinewidth\":0,\"ticks\":\"\"}}}],\"scattermapbox\":[{\"type\":\"scattermapbox\",\"marker\":{\"colorbar\":{\"outlinewidth\":0,\"ticks\":\"\"}}}],\"scatterternary\":[{\"type\":\"scatterternary\",\"marker\":{\"colorbar\":{\"outlinewidth\":0,\"ticks\":\"\"}}}],\"scattercarpet\":[{\"type\":\"scattercarpet\",\"marker\":{\"colorbar\":{\"outlinewidth\":0,\"ticks\":\"\"}}}],\"carpet\":[{\"aaxis\":{\"endlinecolor\":\"#2a3f5f\",\"gridcolor\":\"white\",\"linecolor\":\"white\",\"minorgridcolor\":\"white\",\"startlinecolor\":\"#2a3f5f\"},\"baxis\":{\"endlinecolor\":\"#2a3f5f\",\"gridcolor\":\"white\",\"linecolor\":\"white\",\"minorgridcolor\":\"white\",\"startlinecolor\":\"#2a3f5f\"},\"type\":\"carpet\"}],\"table\":[{\"cells\":{\"fill\":{\"color\":\"#EBF0F8\"},\"line\":{\"color\":\"white\"}},\"header\":{\"fill\":{\"color\":\"#C8D4E3\"},\"line\":{\"color\":\"white\"}},\"type\":\"table\"}],\"barpolar\":[{\"marker\":{\"line\":{\"color\":\"#E5ECF6\",\"width\":0.5},\"pattern\":{\"fillmode\":\"overlay\",\"size\":10,\"solidity\":0.2}},\"type\":\"barpolar\"}],\"pie\":[{\"automargin\":true,\"type\":\"pie\"}]},\"layout\":{\"autotypenumbers\":\"strict\",\"colorway\":[\"#636efa\",\"#EF553B\",\"#00cc96\",\"#ab63fa\",\"#FFA15A\",\"#19d3f3\",\"#FF6692\",\"#B6E880\",\"#FF97FF\",\"#FECB52\"],\"font\":{\"color\":\"#2a3f5f\"},\"hovermode\":\"closest\",\"hoverlabel\":{\"align\":\"left\"},\"paper_bgcolor\":\"white\",\"plot_bgcolor\":\"#E5ECF6\",\"polar\":{\"bgcolor\":\"#E5ECF6\",\"angularaxis\":{\"gridcolor\":\"white\",\"linecolor\":\"white\",\"ticks\":\"\"},\"radialaxis\":{\"gridcolor\":\"white\",\"linecolor\":\"white\",\"ticks\":\"\"}},\"ternary\":{\"bgcolor\":\"#E5ECF6\",\"aaxis\":{\"gridcolor\":\"white\",\"linecolor\":\"white\",\"ticks\":\"\"},\"baxis\":{\"gridcolor\":\"white\",\"linecolor\":\"white\",\"ticks\":\"\"},\"caxis\":{\"gridcolor\":\"white\",\"linecolor\":\"white\",\"ticks\":\"\"}},\"coloraxis\":{\"colorbar\":{\"outlinewidth\":0,\"ticks\":\"\"}},\"colorscale\":{\"sequential\":[[0.0,\"#0d0887\"],[0.1111111111111111,\"#46039f\"],[0.2222222222222222,\"#7201a8\"],[0.3333333333333333,\"#9c179e\"],[0.4444444444444444,\"#bd3786\"],[0.5555555555555556,\"#d8576b\"],[0.6666666666666666,\"#ed7953\"],[0.7777777777777778,\"#fb9f3a\"],[0.8888888888888888,\"#fdca26\"],[1.0,\"#f0f921\"]],\"sequentialminus\":[[0.0,\"#0d0887\"],[0.1111111111111111,\"#46039f\"],[0.2222222222222222,\"#7201a8\"],[0.3333333333333333,\"#9c179e\"],[0.4444444444444444,\"#bd3786\"],[0.5555555555555556,\"#d8576b\"],[0.6666666666666666,\"#ed7953\"],[0.7777777777777778,\"#fb9f3a\"],[0.8888888888888888,\"#fdca26\"],[1.0,\"#f0f921\"]],\"diverging\":[[0,\"#8e0152\"],[0.1,\"#c51b7d\"],[0.2,\"#de77ae\"],[0.3,\"#f1b6da\"],[0.4,\"#fde0ef\"],[0.5,\"#f7f7f7\"],[0.6,\"#e6f5d0\"],[0.7,\"#b8e186\"],[0.8,\"#7fbc41\"],[0.9,\"#4d9221\"],[1,\"#276419\"]]},\"xaxis\":{\"gridcolor\":\"white\",\"linecolor\":\"white\",\"ticks\":\"\",\"title\":{\"standoff\":15},\"zerolinecolor\":\"white\",\"automargin\":true,\"zerolinewidth\":2},\"yaxis\":{\"gridcolor\":\"white\",\"linecolor\":\"white\",\"ticks\":\"\",\"title\":{\"standoff\":15},\"zerolinecolor\":\"white\",\"automargin\":true,\"zerolinewidth\":2},\"scene\":{\"xaxis\":{\"backgroundcolor\":\"#E5ECF6\",\"gridcolor\":\"white\",\"linecolor\":\"white\",\"showbackground\":true,\"ticks\":\"\",\"zerolinecolor\":\"white\",\"gridwidth\":2},\"yaxis\":{\"backgroundcolor\":\"#E5ECF6\",\"gridcolor\":\"white\",\"linecolor\":\"white\",\"showbackground\":true,\"ticks\":\"\",\"zerolinecolor\":\"white\",\"gridwidth\":2},\"zaxis\":{\"backgroundcolor\":\"#E5ECF6\",\"gridcolor\":\"white\",\"linecolor\":\"white\",\"showbackground\":true,\"ticks\":\"\",\"zerolinecolor\":\"white\",\"gridwidth\":2}},\"shapedefaults\":{\"line\":{\"color\":\"#2a3f5f\"}},\"annotationdefaults\":{\"arrowcolor\":\"#2a3f5f\",\"arrowhead\":0,\"arrowwidth\":1},\"geo\":{\"bgcolor\":\"white\",\"landcolor\":\"#E5ECF6\",\"subunitcolor\":\"white\",\"showland\":true,\"showlakes\":true,\"lakecolor\":\"white\"},\"title\":{\"x\":0.05},\"mapbox\":{\"style\":\"light\"}}},\"scene\":{\"xaxis\":{\"nticks\":4,\"range\":[0,2]},\"yaxis\":{\"nticks\":4,\"range\":[0,2]},\"zaxis\":{\"nticks\":4,\"range\":[0,2]},\"aspectratio\":{\"x\":1,\"y\":1,\"z\":1}},\"margin\":{\"t\":0,\"l\":0,\"r\":0,\"b\":0}},                        {\"responsive\": true}                    ).then(function(){\n",
              "                            \n",
              "var gd = document.getElementById('4c24d91c-3263-4499-8e7c-a0475507dd73');\n",
              "var x = new MutationObserver(function (mutations, observer) {{\n",
              "        var display = window.getComputedStyle(gd).display;\n",
              "        if (!display || display === 'none') {{\n",
              "            console.log([gd, 'removed!']);\n",
              "            Plotly.purge(gd);\n",
              "            observer.disconnect();\n",
              "        }}\n",
              "}});\n",
              "\n",
              "// Listen for the removal of the full notebook cells\n",
              "var notebookContainer = gd.closest('#notebook-container');\n",
              "if (notebookContainer) {{\n",
              "    x.observe(notebookContainer, {childList: true});\n",
              "}}\n",
              "\n",
              "// Listen for the clearing of the current output cell\n",
              "var outputEl = gd.closest('.output');\n",
              "if (outputEl) {{\n",
              "    x.observe(outputEl, {childList: true});\n",
              "}}\n",
              "\n",
              "                        })                };                });            </script>        </div>"
            ]
          },
          "metadata": {},
          "output_type": "display_data"
        }
      ],
      "source": [
        "import plotly.graph_objects as go\n",
        "\n",
        "# Coordenadas del origen de los vectores\n",
        "x0, y0, z0 = 1, 1, 1  # Coordenadas del punto de origen común\n",
        "\n",
        "# Componentes de los vectores (direcciones y magnitudes)\n",
        "u = [1, 0, 0]  # Componentes en x de cada vector\n",
        "v = [0, 1, 0]  # Componentes en y de cada vector\n",
        "w = [0, 0, 1]  # Componentes en z de cada vector\n",
        "\n",
        "# Crear una figura 3D\n",
        "fig = go.Figure()\n",
        "\n",
        "# Agregar líneas para el cuerpo de las flechas\n",
        "for i in range(len(u)):\n",
        "    fig.add_trace(go.Scatter3d(x=[x0, x0 + u[i]], y=[y0, y0 + v[i]], z=[z0, z0 + w[i]],\n",
        "                               mode='lines', line=dict(color='blue', width=5)))\n",
        "\n",
        "# Agregar conos en la punta de cada vector para simular la cabeza de la flecha\n",
        "fig.add_trace(go.Cone(x=[x0 + ui for ui in u], y=[y0 + vi for vi in v], z=[z0 + wi for wi in w],\n",
        "                      u=u, v=v, w=w,\n",
        "                      sizemode=\"absolute\", sizeref=0.1, colorscale=[[0, 'blue'], [1, 'blue']]))\n",
        "\n",
        "# Actualizar el diseño del gráfico para mostrar la cuadrícula, etc.\n",
        "fig.update_layout(\n",
        "    scene=dict(\n",
        "        xaxis=dict(nticks=4, range=[0,2]),\n",
        "        yaxis=dict(nticks=4, range=[0,2]),\n",
        "        zaxis=dict(nticks=4, range=[0,2]),\n",
        "        aspectratio=dict(x=1, y=1, z=1)\n",
        "    ),\n",
        "    margin=dict(t=0, l=0, r=0, b=0)\n",
        ")\n",
        "\n",
        "fig.show()\n"
      ]
    }
  ],
  "metadata": {
    "colab": {
      "provenance": []
    },
    "kernelspec": {
      "display_name": "Python 3",
      "name": "python3"
    },
    "language_info": {
      "codemirror_mode": {
        "name": "ipython",
        "version": 3
      },
      "file_extension": ".py",
      "mimetype": "text/x-python",
      "name": "python",
      "nbconvert_exporter": "python",
      "pygments_lexer": "ipython3",
      "version": "3.10.12"
    }
  },
  "nbformat": 4,
  "nbformat_minor": 0
}
