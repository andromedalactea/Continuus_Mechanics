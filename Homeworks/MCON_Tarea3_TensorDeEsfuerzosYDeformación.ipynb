{
  "cells": [
    {
      "cell_type": "markdown",
      "metadata": {
        "id": "6XE49aAfGdAu"
      },
      "source": [
        "<p>\n",
        "<h1><b><center></center></b></h1>\n",
        "<center><img src=\"https://drive.google.com/uc?id=1UJc1ci41G6ahJ7ProKvunUOIBcTXZ6ZG\" align=\"center\" width=\"550\"></center>\n",
        "</p>\n",
        "<h1><b><center>Mecánica Celeste</center></b></h1>\n",
        "<h2><b><center>Prof. Jorge I. Zuluaga</center></b></h1>\n",
        "<h2><b><center>Tarea 3</center></b><h2>\n",
        "<h3><b><center>Tensor de esfuerzos y deformación</center></b><h3>\n",
        "<h5><center><b>Asignada</b>: 2 de Abril de 2024</center><h5>\n",
        "<h5><center><b>Entrega</b>: 16 de Abril de 2024</center><h5>\n",
        "</p>"
      ]
    },
    {
      "cell_type": "markdown",
      "metadata": {
        "id": "DZ3br0tlHiUH"
      },
      "source": [
        "<hr/>\n",
        "<b>Nombre</b>: Bryan Camilo Restrepo Arcila\n",
        "<br/>\n",
        "<b>Cédula</b>: 1000567825\n",
        "<br/>\n",
        "<b>Última actualización</b>:\n",
        "<hr/>"
      ]
    },
    {
      "cell_type": "markdown",
      "metadata": {
        "id": "32KKSLFEHYpg"
      },
      "source": [
        "## Enunciado"
      ]
    },
    {
      "cell_type": "markdown",
      "metadata": {
        "id": "BJv9-ZZAIUgW"
      },
      "source": [
        "**Objetivo**: El objetivo de esta tarea es poner en práctica con un problema práctico algunos de los temas vistos sobre el tensor de esfuerzos y el tensor de deformación.\n",
        "\n",
        "**Procedimiento**:\n",
        "\n",
        "Un bloque metálico de 2 metros por 1 metro, con 0.2 metros de espesor, esta sometido a un campo de desplazamientos dado por la siguiente expresión:\n",
        "\n",
        "  $$\n",
        "  \\begin{array}{ll}\n",
        "x & =X+0.001 Y+0.0002 X^2 - 0.002 Z \\\\\n",
        "y & =1.001 Y-0.0002 Y^2 + 0.004 Z \\\\\n",
        "z& = 0.0003 X^2 + 0.0004 Y + 0.998 Z\n",
        "\\end{array}\n",
        "  $$\n",
        "\n",
        "1. Hacer un mapa de campo vectorial mostrando los vectores de desplazamiento $\\vec u$ en la lamina. Es decir, sobre una malla de valores de las coordenadas eulerianas $X, Y$ dibujar el valor del vector de desplazamiento proyectado sobre ese plano $(u_x, u_y)$ para un valor de z específico. Crear un código interactivo que permita, variando el valor de $z$, ver el campo de desplazamientos en la lámina. Hacer lo mismo para cortes en el plano $X-Z$ y $Y-Z$.\n",
        "\n",
        "2. Calcular el campo tensorial de deformaciones (pequeñas) dentro de la lámina, $u_{ij}$ como función de $\\vec X$. Si se diagonaliza el tensor de deformaciones, es posible encontrar en cada punto las denominadas deformaciones principales (autovalores del tensor), $\\epsilon_1, \\epsilon_2, \\epsilon_3$ (de menor a mayor de acuerdo con su valor absoluto) y las direcciones principales de deformación (autovectores normalizados), $\\hat e_{u1}, \\hat e_{u2}, \\hat e_{u3}$. Escriba un código interactivo que permita variar el valor de $X, Y, Z$ y que muestre, en un gráfico en 3-D, las direcciones principales de deformación (son 3 vectores ortogonales) en ese punto de la lámina, de modo que el tamaño de cada vector sea proporcional al valor absoluto de la deformación principal correspondiente. Juegue con el código y comente lo que observa.\n",
        "\n",
        "3. Consulte el módulo de Young $E$ y el coeficiente de Poisson del Aluminio $\\nu$ y, usando la ley de Hooke (relación constitutiva), calcule el tensor de esfuerzos en cada punto del bloque (campo tensorial de esfuerzos) y la presión (campo escalar de presión). Ambos campos deben escribirse como función de $X, Y, Z$. Haga un interactivo en el que muestre, variando el valor de z, un gráfico de contornos (o mapa de calor) de la presión experimentada a cada profundidad dentro del bloque. ¿En que punto del bloque se experimenta la máxima presión y cuánto vale?.\n",
        "\n",
        "4. Calcule el tensor de esfuerzos en el centro del bloque. Diagonalizando el tensor, determine los esfuerzos principales (autovalores del tensor), $\\sigma_1, \\sigma_2, \\sigma_3$ y las direcciones de los esfuerzos principales (autovectores del tensor normalizados) $\\hat e_{\\sigma1}, \\hat e_{\\sigma2}, \\hat e_{\\sigma3}$. Ahora aplique una rotación del tensor de esfuerzos en ese punto y demuestre que el tensor rotado tiene forma diagonal. Repita el procedimiento de rotación a todos los puntos del bloque y usando esos tensores de esfuerzos rotados, repita 3 (mapas de calor de la presión en el bloque y lugar donde la presión es más grande).\n",
        "\n",
        "5. Determine el valor del vector de esfuerzo normal (tracción sobre la cara, $\\vec t_n = \\mathbf{\\sigma}\\cdot\\hat n$) que experimenta el bloque en cada una de sus 6 caras y el esfuerzo normal correspondiente ($\\sigma_n = \\vec t_n\\cdot\\hat n$). Haga gráficos de contorno (mapas de calor) para el valor del esfuerzo normal en cada uno de los puntos de esas caras. Comente su resultado.  Calcule también el valor del vector de esfuerzo de cizalladura en cada una de las 3 caras ($\\vec\\tau_n = \\vec t_n - \\sigma_n\\hat n$) y haga mapas de campo vectorial de esos vectores en cada una de ellas.\n"
      ]
    },
    {
      "cell_type": "markdown",
      "metadata": {
        "id": "91A-a_vz5IqR"
      },
      "source": [
        "**Resultados esperados**:\n",
        "\n",
        "- Este notebook con el procedimiento debidamente comentado.\n",
        "\n",
        "- Gráficos mínimos:\n",
        "  - Gráficos de cada punto.\n",
        "\n",
        "- Datos mínimos:\n",
        "  - Los números solicitados en cada punto.\n",
        "\n",
        "- En caso de utilizar ayudas como `ChatGPT` o códigos de `Stack Over Flow` debe citar debidamente la fuente, pero también entender a cabalidad el código, el profesor puede pedir justificación."
      ]
    },
    {
      "cell_type": "markdown",
      "metadata": {
        "id": "J0ISSYQpHex_"
      },
      "source": [
        "## Solución"
      ]
    },
    {
      "cell_type": "markdown",
      "metadata": {},
      "source": [
        "Instalación de Librerías "
      ]
    },
    {
      "cell_type": "code",
      "execution_count": 65,
      "metadata": {},
      "outputs": [],
      "source": [
        "!pip install -q ipywidgets"
      ]
    },
    {
      "cell_type": "markdown",
      "metadata": {},
      "source": [
        "Importanción de librerías"
      ]
    },
    {
      "cell_type": "code",
      "execution_count": 66,
      "metadata": {
        "id": "TOIft9CS5W6s"
      },
      "outputs": [],
      "source": [
        "import numpy as np\n",
        "import matplotlib.pyplot as plt\n",
        "from mpl_toolkits.mplot3d import Axes3D\n",
        "from matplotlib import cm\n",
        "import ipywidgets as widgets\n",
        "from IPython.display import display\n",
        "import ipywidgets as widgets\n",
        "from ipywidgets import interact, interact_manual\n",
        "import sympy as sp"
      ]
    },
    {
      "cell_type": "markdown",
      "metadata": {},
      "source": [
        "**Procedimiento**:\n",
        "\n",
        "Un bloque metálico de 2 metros por 1 metro, con 0.2 metros de espesor, esta sometido a un campo de desplazamientos dado por la siguiente expresión:\n",
        "\n",
        "  $$\n",
        "  \\begin{array}{ll}\n",
        "x & =X+0.001 Y+0.0002 X^2 - 0.002 Z \\\\\n",
        "y & =1.001 Y-0.0002 Y^2 + 0.004 Z \\\\\n",
        "z& = 0.0003 X^2 + 0.0004 Y + 0.998 Z\n",
        "\\end{array}\n",
        "  $$\n",
        "  \n",
        "1. Hacer un mapa de campo vectorial mostrando los vectores de desplazamiento $\\vec u$ en la lamina. Es decir, sobre una malla de valores de las coordenadas eulerianas $X, Y$ dibujar el valor del vector de desplazamiento proyectado sobre ese plano $(u_x, u_y)$ para un valor de z específico. Crear un código interactivo que permita, variando el valor de $z$, ver el campo de desplazamientos en la lámina. Hacer lo mismo para cortes en el plano $X-Z$ y $Y-Z$."
      ]
    },
    {
      "cell_type": "markdown",
      "metadata": {},
      "source": [
        "Definamos las funciones de desplazamiento de nuestro problema a partir de las posiciones iniciales X, Y, Z"
      ]
    },
    {
      "cell_type": "code",
      "execution_count": 67,
      "metadata": {},
      "outputs": [],
      "source": [
        "def displacement_x(X, Y, Z):\n",
        "    \"\"\"\n",
        "    Calcula la componente final en x del desplazamiento dado las coordenadas X, Y, Z.\n",
        "    \n",
        "    Parámetros:\n",
        "    X (float): Coordenada en el eje X.\n",
        "    Y (float): Coordenada en el eje Y.\n",
        "    Z (float): Coordenada en el eje Z.\n",
        "    \n",
        "    Retorna:\n",
        "    float: La componente final en x del desplazamiento.\n",
        "    \"\"\"\n",
        "    return X + 0.001 * Y + 0.0002 * X**2 - 0.002 * Z\n",
        "\n",
        "def displacement_y(_, Y, Z):\n",
        "    \"\"\"\n",
        "    Calcula la componente final en y del desplazamiento dado las coordenadas X, Y, Z.\n",
        "    \n",
        "    Parámetros:\n",
        "    X (float): Coordenada en el eje X.\n",
        "    Y (float): Coordenada en el eje Y.\n",
        "    Z (float): Coordenada en el eje Z.\n",
        "    \n",
        "    Retorna:\n",
        "    float: La componente final en y del desplazamiento.\n",
        "    \"\"\"\n",
        "    return 1.001 * Y - 0.0002 * Y**2 + 0.004 * Z\n",
        "\n",
        "def displacement_z(X, Y, Z):\n",
        "    \"\"\"\n",
        "    Calcula la componente final en z del desplazamiento dado las coordenadas X, Y, Z.\n",
        "    \n",
        "    Parámetros:\n",
        "    X (float): Coordenada en el eje X.\n",
        "    Y (float): Coordenada en el eje Y.\n",
        "    Z (float): Coordenada en el eje Z.\n",
        "    \n",
        "    Retorna:\n",
        "    float: La componente final en z del desplazamiento.\n",
        "    \"\"\"\n",
        "    return 0.0003 * X**2 + 0.0004 * Y + 0.998 * Z"
      ]
    },
    {
      "cell_type": "markdown",
      "metadata": {},
      "source": [
        "Hagamos el gráfico interactivo para perfiles x, y en relación a la variación de z"
      ]
    },
    {
      "cell_type": "code",
      "execution_count": 68,
      "metadata": {},
      "outputs": [
        {
          "data": {
            "application/vnd.jupyter.widget-view+json": {
              "model_id": "a1e9ebbffdba4ad7b3ae031a7652e584",
              "version_major": 2,
              "version_minor": 0
            },
            "text/plain": [
              "interactive(children=(FloatSlider(value=0.1, description='Z_value', max=0.2, step=0.01), Output()), _dom_class…"
            ]
          },
          "metadata": {},
          "output_type": "display_data"
        }
      ],
      "source": [
        "@interact\n",
        "def constante_jacobi_grafico(Z_value = (0,0.2,0.01)):\n",
        "  X_range = np.linspace(0, 2, 7)  # Range for X\n",
        "  Y_range = np.linspace(0, 1, 7)  # Range for Y\n",
        "  X, Y = np.meshgrid(X_range, Y_range)  # Create meshgrid\n",
        "\n",
        "  # Calculate initial vectors\n",
        "  \n",
        "  x = displacement_x(X, Y, Z_value) \n",
        "  y = displacement_y(X, Y, Z_value) \n",
        "  # print(X, Y, Z_value, x, y)\n",
        "  # Plot vector field for the XY plane\n",
        "  plt.figure(figsize=(10, 5))\n",
        "  # plt.plot(X, Y, 'o', color='black')\n",
        "  plt.quiver(X, Y, x - X, y - Y, angles='xy', scale_units='xy', scale=1, color='purple')\n",
        "  plt.title(f'Vector de desplazamiento para Z={Z_value}[m] en el plano XY')\n",
        "  plt.xlabel(r'$\\hat{U}_x$ [m]')\n",
        "  plt.ylabel(r'$\\hat{U}_y$ [m]')\n",
        "  plt.grid()\n",
        "  plt.show()"
      ]
    },
    {
      "cell_type": "markdown",
      "metadata": {},
      "source": [
        "Hagamos lo mismo para para cortes en el plano X, Z"
      ]
    },
    {
      "cell_type": "code",
      "execution_count": 69,
      "metadata": {},
      "outputs": [
        {
          "data": {
            "application/vnd.jupyter.widget-view+json": {
              "model_id": "3ada65770cf342eab6d45473d4da9301",
              "version_major": 2,
              "version_minor": 0
            },
            "text/plain": [
              "interactive(children=(FloatSlider(value=0.0, description='Y', max=1.0, step=0.01), Output()), _dom_classes=('w…"
            ]
          },
          "metadata": {},
          "output_type": "display_data"
        }
      ],
      "source": [
        "@interact\n",
        "def constante_jacobi_grafico(Y = (0,1,0.01)):\n",
        "  X_range = np.linspace(0, 2, 7)  # Range for X\n",
        "  Z_range = np.linspace(0, 0.2, 7)  # Range for Z\n",
        "  X, Z = np.meshgrid(X_range, Z_range)  # Create meshgrid\n",
        "\n",
        "  # Calculate initial vectors\n",
        "  x = displacement_x(X, Y, Z) \n",
        "  z = displacement_z(X, Y, Z) \n",
        "\n",
        "  # Plot vector field for the XY plane\n",
        "  plt.figure(figsize=(10, 5))\n",
        "  plt.quiver(X, Z, x - X, z - Z, angles='xy', scale_units='xy', scale=1, color='red')\n",
        "  plt.title(f'Vector de desplazamiento para Y={Y}[m], en el plano XZ')\n",
        "  plt.xlabel(r'$\\hat{U}_x$ [m]')\n",
        "  plt.ylabel(r'$\\hat{U}_z$ [m]')\n",
        "  plt.grid()\n",
        "  plt.show()"
      ]
    },
    {
      "cell_type": "markdown",
      "metadata": {},
      "source": [
        "Al igual que para el plano x,y la dependecia del plano XZ de la coordenada Y es muy baja por tanto no se observa una variación en el gráfico"
      ]
    },
    {
      "cell_type": "markdown",
      "metadata": {},
      "source": [
        "Ahora veamos la animación pero par el plano YZ"
      ]
    },
    {
      "cell_type": "code",
      "execution_count": 70,
      "metadata": {},
      "outputs": [
        {
          "data": {
            "application/vnd.jupyter.widget-view+json": {
              "model_id": "2f613212e310434da002f34e0244b94d",
              "version_major": 2,
              "version_minor": 0
            },
            "text/plain": [
              "interactive(children=(FloatSlider(value=1.0, description='X', max=2.0, step=0.01), Output()), _dom_classes=('w…"
            ]
          },
          "metadata": {},
          "output_type": "display_data"
        }
      ],
      "source": [
        "@interact\n",
        "def constante_jacobi_grafico(X = (0, 2, 0.01)):\n",
        "    Y_range = np.linspace(0, 1, 7)  # Range for X\n",
        "    Z_range = np.linspace(0, 0.2, 7)  # Range for Z\n",
        "    Y, Z = np.meshgrid(Y_range, Z_range)  # Create meshgrid\n",
        "\n",
        "    # Calculate initial vectors\n",
        "    y = displacement_y(X, Y, Z) \n",
        "    z = displacement_z(X, Y, Z) \n",
        "\n",
        "    # Plot vector field for the XY plane\n",
        "    plt.figure(figsize=(10, 5))\n",
        "    plt.quiver(Y, Z, y - Y, z -Z, angles='xy', scale_units='xy', scale=1, color='blue')\n",
        "    plt.title(f'Vector de desplazamiento para X={X}[m], en el plano YZ')\n",
        "    plt.xlabel(r'$\\hat{U}_y$ [m]')\n",
        "    plt.ylabel(r'$\\hat{U}_z$ [m]')\n",
        "    plt.grid()\n",
        "    plt.show()"
      ]
    },
    {
      "cell_type": "markdown",
      "metadata": {},
      "source": [
        "Para todas las gráficas no se observan ni desplazamientos, ni cambios en el desplazamiento, esto es debido a que los desplzamientos son extremadamente pequeños según las expresiones para el campo de desplazamiento, lo que es natural en un bloque metalico el cual en general es duro de deformar, sin embargo esto no significa que no sufra deformaciones, solo que son pequeñas"
      ]
    },
    {
      "cell_type": "markdown",
      "metadata": {},
      "source": [
        "2. Calcular el campo tensorial de deformaciones (pequeñas) dentro de la lámina, $u_{ij}$ como función de $\\vec X$. Si se diagonaliza el tensor de deformaciones, es posible encontrar en cada punto las denominadas deformaciones principales (autovalores del tensor), $\\epsilon_1, \\epsilon_2, \\epsilon_3$ (de menor a mayor de acuerdo con su valor absoluto) y las direcciones principales de deformación (autovectores normalizados), $\\hat e_{u1}, \\hat e_{u2}, \\hat e_{u3}$. Escriba un código interactivo que permita variar el valor de $X, Y, Z$ y que muestre, en un gráfico en 3-D, las direcciones principales de deformación (son 3 vectores ortogonales) en ese punto de la lámina, de modo que el tamaño de cada vector sea proporcional al valor absoluto de la deformación principal correspondiente. Juegue con el código y comente lo que observa."
      ]
    },
    {
      "cell_type": "markdown",
      "metadata": {},
      "source": [
        "El vector de desplazamiento, esta  dado por:\n",
        "$$\n",
        "\\vec{u} = \\vec{\\tilde{x}}(\\vec{X}) - \\vec{X}\n",
        "$$"
      ]
    },
    {
      "cell_type": "code",
      "execution_count": 71,
      "metadata": {},
      "outputs": [
        {
          "data": {
            "text/latex": [
              "$\\displaystyle \\left[\\begin{matrix}0.0002 X^{2} + 0.001 Y - 0.002 Z\\\\- 0.0002 Y^{2} + 0.001 Y + 0.004 Z\\\\0.0003 X^{2} + 0.0004 Y - 0.002 Z\\end{matrix}\\right]$"
            ],
            "text/plain": [
              "Matrix([\n",
              "[ 0.0002*X**2 + 0.001*Y - 0.002*Z],\n",
              "[-0.0002*Y**2 + 0.001*Y + 0.004*Z],\n",
              "[0.0003*X**2 + 0.0004*Y - 0.002*Z]])"
            ]
          },
          "execution_count": 71,
          "metadata": {},
          "output_type": "execute_result"
        }
      ],
      "source": [
        "import sympy as sp\n",
        "\n",
        "# Definir las variables simbólicas\n",
        "X, Y, Z = sp.symbols('X Y Z')\n",
        "\n",
        "# Definir las funciones de desplazamiento\n",
        "x_disp = X + 0.001*Y + 0.0002*X**2 - 0.002*Z\n",
        "y_disp = 1.001*Y - 0.0002*Y**2 + 0.004*Z\n",
        "z_disp = 0.0003*X**2 + 0.0004*Y + 0.998*Z\n",
        "\n",
        "# Crear el vector de desplazamiento como una matriz\n",
        "displacement_vector = sp.Matrix([[x_disp - X], [y_disp - Y], [z_disp - Z]])\n",
        "\n",
        "# Evaluar los elementos de la matriz a decimales con 4 cifras significativas\n",
        "decimal_vector = displacement_vector.applyfunc(lambda x: x.evalf(4))\n",
        "\n",
        "decimal_vector\n",
        "\n"
      ]
    },
    {
      "cell_type": "markdown",
      "metadata": {},
      "source": [
        "A partir de este vector de desplazamiento, podemos obtener el tensor de deformaciones pequeñas, dado por la siguiente expresión de cauchy:\n",
        "$$\n",
        "u_{ij} = \\frac{1}{2} (\\nabla_i u_j + \\nabla_j u_i)\n",
        "$$\n"
      ]
    },
    {
      "cell_type": "code",
      "execution_count": 72,
      "metadata": {},
      "outputs": [
        {
          "data": {
            "text/latex": [
              "$\\displaystyle \\left[\\begin{matrix}0.0004 X & 0.0005 & 0.0003 X - 0.001\\\\0.0005 & 0.001 - 0.0004 Y & 0.0022\\\\0.0003 X - 0.001 & 0.0022 & -0.002\\end{matrix}\\right]$"
            ],
            "text/plain": [
              "Matrix([\n",
              "[        0.0004*X,           0.0005, 0.0003*X - 0.001],\n",
              "[          0.0005, 0.001 - 0.0004*Y,           0.0022],\n",
              "[0.0003*X - 0.001,           0.0022,           -0.002]])"
            ]
          },
          "execution_count": 72,
          "metadata": {},
          "output_type": "execute_result"
        }
      ],
      "source": [
        "# Inicializar una matriz para el tensor de deformaciones\n",
        "deformation_tensor = sp.zeros(3, 3)\n",
        "\n",
        "# Calcular las derivadas para cada componente del tensor de deformaciones\n",
        "for i in range(3):\n",
        "    for j in range(3):\n",
        "        # Seleccionar la componente de desplazamiento adecuada\n",
        "        ui = displacement_vector[i]\n",
        "        uj = displacement_vector[j]\n",
        "        \n",
        "        # Calcular la derivada parcial de la componente de desplazamiento\n",
        "        first_partial_derivative = ui.diff([X, Y, Z][j])\n",
        "        second_partial_derivative = uj.diff([X, Y, Z][i])\n",
        "        \n",
        "        # Simetrizar el tensor\n",
        "        deformation_tensor[i, j] = (first_partial_derivative + second_partial_derivative) / 2\n",
        "\n",
        "deformation_tensor = deformation_tensor.applyfunc(lambda x: x.evalf(4))\n",
        "\n",
        "deformation_tensor"
      ]
    },
    {
      "cell_type": "code",
      "execution_count": 73,
      "metadata": {},
      "outputs": [],
      "source": [
        "def eigen_information_for_a_point_and_reescale(X_value, Y_value, Z_value, matrix=deformation_tensor):\n",
        "    \"\"\"\n",
        "    \"\"\"\n",
        "    # Values to substitute into the matrix\n",
        "    values_to_substitute = {X: X_value, Y: Y_value, Z: Z_value}\n",
        "\n",
        "    # Substitute values into the matrix\n",
        "    numeric_matrix = matrix.subs(values_to_substitute)\n",
        "\n",
        "    # Convert to a numerical matrix with decimal numbers\n",
        "    numeric_matrix_evaluated = numeric_matrix.evalf()\n",
        "\n",
        "    # Diagonalize the numerical matrix\n",
        "    eigenvalues_vectors_values = numeric_matrix_evaluated.eigenvects()  # Retorna una lista de tuplas con valores propios, multiplicidad y vectores propios correspondientes\n",
        "\n",
        "    # Normalize and reescale the eigenvectors\n",
        "    reescaled_vectors = []\n",
        "\n",
        "    for i in eigenvalues_vectors_values:\n",
        "        eigenvector = i[2][0]\n",
        "        eigenvector_normal = eigenvector / eigenvector.norm()\n",
        "        reescaled_eigenvector = eigenvector_normal * abs(i[0])*50 # Reescalado dependiendo del Eigen valor\n",
        "\n",
        "        reescaled_vectors.append(reescaled_eigenvector)\n",
        "\n",
        "    return reescaled_vectors"
      ]
    },
    {
      "cell_type": "code",
      "execution_count": 74,
      "metadata": {},
      "outputs": [],
      "source": [
        "# import numpy as np\n",
        "# import plotly.graph_objects as go\n",
        "# from ipywidgets import interactive\n",
        "# from IPython.display import display\n",
        "\n",
        "# # Inicializar el gráfico en 3D como un FigureWidget fuera de la función\n",
        "# fig = go.FigureWidget()\n",
        "\n",
        "# # Agregar un trazado vacío inicialmente (será actualizado más tarde)\n",
        "# fig.add_scatter3d()\n",
        "\n",
        "# # Configuración inicial del layout del gráfico\n",
        "# fig.update_layout(\n",
        "#     scene=dict(\n",
        "#         xaxis=dict(nticks=4),\n",
        "#         yaxis=dict(nticks=4),\n",
        "#         zaxis=dict(nticks=4),\n",
        "#         aspectratio=dict(x=1, y=1, z=1)\n",
        "#     ),\n",
        "#     margin=dict(t=0, l=0, r=0, b=0)\n",
        "# )\n",
        "\n",
        "\n",
        "\n",
        "# # Función para actualizar el gráfico basado en los valores de entrada\n",
        "# def plot_deformation_directions(X_val, Y_val, Z_val):\n",
        "#     reescaled_eigenvectors = eigen_information_for_a_point_and_reescale(X_val, Y_val, Z_val)\n",
        "    \n",
        "#     # Origen de los vectores\n",
        "#     origin = np.array([X_val, Y_val, Z_val])\n",
        "\n",
        "#     # Limpiar trazados anteriores\n",
        "#     while len(fig.data) > 0:\n",
        "#         fig.data = fig.data[:-1]\n",
        "    \n",
        "#     # Componentes de cada vector en cada dirección x, y, y z\n",
        "#     u, v, w = zip(*reescaled_eigenvectors)\n",
        "\n",
        "#     # Agregar los nuevos trazados\n",
        "#     for i in range(len(u)):\n",
        "#         fig.add_scatter3d(x=[origin[0], origin[0] + u[i]], y=[origin[1], origin[1] + v[i]], z=[origin[2], origin[2] + w[i]],\n",
        "#                           mode='lines', line=dict(color='blue', width=5))\n",
        "    \n",
        "#     # Agregar conos en la punta de cada vector para simular la cabeza de la flecha\n",
        "#     fig.add_trace(go.Cone(x=[origin[0] + ui for ui in u], y=[origin[1] + vi for vi in v], z=[origin[2] + wi for wi in w],\n",
        "#                         u=u, v=v, w=w,\n",
        "#                         sizemode=\"absolute\", sizeref=0.01, colorscale=[[0, 'blue'], [1, 'blue']]))\n",
        "\n",
        "#     display(fig)\n",
        "\n",
        "# # Crear el control interactivo\n",
        "# interactive_plot = interactive(plot_deformation_directions, X_val=(0, 2, 0.01), Y_val=(0, 1, 0.01), Z_val=(0, 0.2, 0.01))\n",
        "# display(interactive_plot)"
      ]
    },
    {
      "cell_type": "code",
      "execution_count": 75,
      "metadata": {},
      "outputs": [
        {
          "data": {
            "application/vnd.jupyter.widget-view+json": {
              "model_id": "affe03e75b6e42129ebf2c9119f6d982",
              "version_major": 2,
              "version_minor": 0
            },
            "text/plain": [
              "interactive(children=(FloatSlider(value=1.0, description='X_val', max=2.0, step=0.01), FloatSlider(value=0.0, …"
            ]
          },
          "metadata": {},
          "output_type": "display_data"
        }
      ],
      "source": [
        "import numpy as np\n",
        "import plotly.graph_objects as go\n",
        "from ipywidgets import interactive\n",
        "from IPython.display import display, clear_output\n",
        "\n",
        "# Inicializar el gráfico en 3D como un FigureWidget fuera de la función\n",
        "fig = go.FigureWidget()\n",
        "\n",
        "# Configuración inicial del layout del gráfico\n",
        "fig.update_layout(\n",
        "    scene=dict(\n",
        "        xaxis=dict(nticks=4, range=[-.3, 2.2]),\n",
        "        yaxis=dict(nticks=4, range=[-.3, 1.2]),\n",
        "        zaxis=dict(nticks=4, range=[-.3, 0.5]),\n",
        "        aspectratio=dict(x=2*2, y=1*2, z=0.2*2),\n",
        "        camera=dict(\n",
        "            eye=dict(x=2, y=1, z=0.2)  # Ajusta estos valores para la perspectiva inicial deseada\n",
        "        )\n",
        "    ),\n",
        "    margin=dict(t=0, l=0, r=0, b=0)\n",
        ")\n",
        "\n",
        "# Agrega las líneas para formar la caja\n",
        "x_box = [0, 2, 2, 0, 0, 0, 2, 2, 2, 2, 0, 0]\n",
        "y_box = [0, 0, 1, 1, 1, 0, 0, 1, 1, 0, 0, 1]\n",
        "z_box = [0, 0, 0, 0, 0.2, 0.2, 0.2, 0.2, 0, 0, 0, 0]\n",
        "\n",
        "fig.add_scatter3d(x=x_box, y=y_box, z=z_box, mode='lines', line=dict(color='black', width=2))\n",
        "\n",
        "\n",
        "\n",
        "def plot_deformation_directions(X_val, Y_val, Z_val):\n",
        "    # Limpia la salida anterior antes de mostrar un nuevo gráfico\n",
        "    clear_output(wait=True)\n",
        "\n",
        "    # Restablece los datos del gráfico a solo la caja\n",
        "    fig.data = []\n",
        "    fig.add_scatter3d(x=x_box, y=y_box, z=z_box, mode='lines', line=dict(color='black', width=2))\n",
        "    \n",
        "    reescaled_eigenvectors = eigen_information_for_a_point_and_reescale(X_val, Y_val, Z_val)\n",
        "    \n",
        "    # Origen de los vectores\n",
        "    origin = np.array([X_val, Y_val, Z_val])\n",
        "\n",
        "    # Componentes de cada vector en cada dirección x, y, y z\n",
        "    u, v, w = zip(*reescaled_eigenvectors)\n",
        "\n",
        "    # Agregar los vectores\n",
        "    for i in range(len(u)):\n",
        "        fig.add_scatter3d(x=[origin[0], origin[0] + u[i]], y=[origin[1], origin[1] + v[i]], z=[origin[2], origin[2] + w[i]],\n",
        "                          mode='lines', line=dict(color='blue', width=5))\n",
        "\n",
        "    # Agregar conos en la punta de cada vector para simular la cabeza de la flecha\n",
        "    fig.add_trace(go.Cone(x=[origin[0] + ui for ui in u], y=[origin[1] + vi for vi in v], z=[origin[2] + wi for wi in w],\n",
        "                        u=u, v=v, w=w,\n",
        "                        sizemode=\"absolute\", sizeref=0.05, colorscale=[[0, 'blue'], [1, 'red']]))\n",
        "\n",
        "    # Vuelve a mostrar el gráfico\n",
        "    display(fig)\n",
        "\n",
        "# Crear el control interactivo y mostrarlo\n",
        "interactive_plot = interactive(plot_deformation_directions, X_val=(0, 2, 0.01), Y_val=(0, 1, 0.01), Z_val=(0, 0.2, 0.01))\n",
        "display(interactive_plot)\n"
      ]
    },
    {
      "cell_type": "markdown",
      "metadata": {},
      "source": [
        "Al interactuar con el gráfico se puede obtener observar que:\n",
        "- La deformación esta enfocada en los ejes y y z. en el eje x parece que el estrés es bajo por tanto las deformaciones tienen una menor magnitud en esa dirección\n",
        "\n",
        "- El comportamiento de las deformaciones es en general uniforme a través de toda la placa, esto significa que su dirección y magnitudes son similares sin importar el punto de la placa en el cual analicemos sus deformaciones principales\n",
        "\n",
        "- En relación a la observación anterior, se induce que la fuerza Neta que esta proporcionando el extrés vienen desde una dirección simlar para todos los puntos en el material"
      ]
    },
    {
      "cell_type": "markdown",
      "metadata": {},
      "source": [
        "3. Consulte el módulo de Young $E$ y el coeficiente de Poisson del Aluminio $\\nu$ y, usando la ley de Hooke (relación constitutiva), calcule el tensor de esfuerzos en cada punto del bloque (campo tensorial de esfuerzos) y la presión (campo escalar de presión). Ambos campos deben escribirse como función de $X, Y, Z$. Haga un interactivo en el que muestre, variando el valor de z, un gráfico de contornos (o mapa de calor) de la presión experimentada a cada profundidad dentro del bloque. ¿En que punto del bloque se experimenta la máxima presión y cuánto vale?."
      ]
    },
    {
      "cell_type": "markdown",
      "metadata": {},
      "source": [
        " De las diapositivas de la clase el modulo de Young y coeficiente de Poisson para el Aluminio"
      ]
    },
    {
      "cell_type": "code",
      "execution_count": 76,
      "metadata": {},
      "outputs": [],
      "source": [
        "E_al = 70e9  # Módulo de Young del aluminio en Pa\n",
        "v_al = 0.33 # Coeficiente de Poisson del aluminio"
      ]
    },
    {
      "cell_type": "markdown",
      "metadata": {},
      "source": [
        "Ahora con estos podemos hallar los coeficientes de Lame"
      ]
    },
    {
      "cell_type": "code",
      "execution_count": 77,
      "metadata": {},
      "outputs": [
        {
          "name": "stdout",
          "output_type": "stream",
          "text": [
            "51083591331.26935 26315789473.684208\n"
          ]
        }
      ],
      "source": [
        "lamb = (E_al * v_al)/((1-2*v_al)*(1 + v_al))  # Primer coeficiente de Lamé\n",
        "mu = E_al/(2*(1 + v_al))  # Segundo coeficiente de Lamé\n",
        "\n",
        "print(lamb, mu)"
      ]
    },
    {
      "cell_type": "markdown",
      "metadata": {},
      "source": [
        "Calculando el tensor de esfuerzos, este se puede conseguir a partir del tensor de deformaciones que ya se calculo anteriormente en este notebook, con la siguiente expresión:\n",
        "$$\n",
        "\\sigma_{ij} = 2\\mu u_{ij} + \\lambda \\delta_{ij} \\sum_{k} u_{kk}\n",
        "$$"
      ]
    },
    {
      "cell_type": "code",
      "execution_count": 78,
      "metadata": {},
      "outputs": [
        {
          "name": "stdout",
          "output_type": "stream",
          "text": [
            "0.0004*X - 0.0004*Y - 0.001\n"
          ]
        },
        {
          "data": {
            "text/latex": [
              "$\\displaystyle \\left[\\begin{matrix}0.0008 X \\mu + \\lambda \\left(0.0004 X - 0.0004 Y - 0.001\\right) & 0.001 \\mu & 2 \\mu \\left(0.0003 X - 0.001\\right)\\\\0.001 \\mu & \\lambda \\left(0.0004 X - 0.0004 Y - 0.001\\right) + 2 \\mu \\left(0.001 - 0.0004 Y\\right) & 0.0044 \\mu\\\\2 \\mu \\left(0.0003 X - 0.001\\right) & 0.0044 \\mu & \\lambda \\left(0.0004 X - 0.0004 Y - 0.001\\right) - 0.004 \\mu\\end{matrix}\\right]$"
            ],
            "text/plain": [
              "Matrix([\n",
              "[0.0008*X*mu + lambda*(0.0004*X - 0.0004*Y - 0.001),                                                       0.001*mu,                         2*mu*(0.0003*X - 0.001)],\n",
              "[                                          0.001*mu, lambda*(0.0004*X - 0.0004*Y - 0.001) + 2*mu*(0.001 - 0.0004*Y),                                       0.0044*mu],\n",
              "[                           2*mu*(0.0003*X - 0.001),                                                      0.0044*mu, lambda*(0.0004*X - 0.0004*Y - 0.001) - 0.004*mu]])"
            ]
          },
          "metadata": {},
          "output_type": "display_data"
        },
        {
          "data": {
            "text/latex": [
              "$\\displaystyle \\left[\\begin{matrix}6.13 \\cdot 10^{7} X - 2.043 \\cdot 10^{7} Y - 5.108 \\cdot 10^{7} & 5.108 \\cdot 10^{7} & 3.065 \\cdot 10^{7} X - 1.022 \\cdot 10^{8}\\\\5.108 \\cdot 10^{7} & 2.043 \\cdot 10^{7} X - 6.13 \\cdot 10^{7} Y + 5.108 \\cdot 10^{7} & 2.248 \\cdot 10^{8}\\\\3.065 \\cdot 10^{7} X - 1.022 \\cdot 10^{8} & 2.248 \\cdot 10^{8} & 2.043 \\cdot 10^{7} X - 2.043 \\cdot 10^{7} Y - 2.554 \\cdot 10^{8}\\end{matrix}\\right]$"
            ],
            "text/plain": [
              "Matrix([\n",
              "[6.13e+7*X - 2.043e+7*Y - 5.108e+7,                          5.108e+7,              3.065e+7*X - 1.022e+8],\n",
              "[                         5.108e+7, 2.043e+7*X - 6.13e+7*Y + 5.108e+7,                           2.248e+8],\n",
              "[            3.065e+7*X - 1.022e+8,                          2.248e+8, 2.043e+7*X - 2.043e+7*Y - 2.554e+8]])"
            ]
          },
          "execution_count": 78,
          "metadata": {},
          "output_type": "execute_result"
        }
      ],
      "source": [
        "import sympy as sp\n",
        "\n",
        "# Definir las variables simbólicas para los coeficientes de Lamé\n",
        "mu, lam = sp.symbols('mu lambda')\n",
        "\n",
        "# Calcular el tensor de esfuerzos\n",
        "# Paso 1: Multiplicar 2*mu por el tensor de deformaciones\n",
        "stress_tensor = 2 * mu * deformation_tensor\n",
        "\n",
        "# Paso 2: Calcular la traza del tensor de deformaciones\n",
        "trace_u = deformation_tensor.trace()\n",
        "\n",
        "print(trace_u)\n",
        "# Paso 3 y 4: Añadir lambda*delta_ij*trace(u) al tensor de esfuerzos\n",
        "for i in range(3):\n",
        "    for j in range(3):\n",
        "        stress_tensor[i, j] += lam * sp.KroneckerDelta(i, j) * trace_u\n",
        "\n",
        "display(stress_tensor)\n",
        "# Si tienes valores numéricos para mu y lambda, sustitúyelos aquí\n",
        "num_values = {mu: lamb, lam: mu}  # Sustituir valor_mu y valor_lambda con los valores numéricos reales\n",
        "stress_tensor = stress_tensor.subs(num_values)\n",
        "\n",
        "# Evaluar el tensor de esfuerzos para obtener resultados numéricos\n",
        "stress_tensor = stress_tensor.evalf()\n",
        "\n",
        "stress_tensor= stress_tensor.applyfunc(lambda x: x.evalf(4))\n",
        "\n",
        "stress_tensor\n"
      ]
    },
    {
      "cell_type": "markdown",
      "metadata": {},
      "source": [
        "Ahora podemos obtener el campo escalar d presión como un tercio de la traza del tensor de esfuerzos:"
      ]
    },
    {
      "cell_type": "code",
      "execution_count": 79,
      "metadata": {},
      "outputs": [
        {
          "name": "stdout",
          "output_type": "stream",
          "text": [
            "El campo escalar de presiones esta dado por:\n"
          ]
        },
        {
          "data": {
            "text/latex": [
              "$\\displaystyle - 3.406 \\cdot 10^{7} X + 3.406 \\cdot 10^{7} Y + 8.514 \\cdot 10^{7}$"
            ],
            "text/plain": [
              "-3.406e+7*X + 3.406e+7*Y + 8.514e+7"
            ]
          },
          "execution_count": 79,
          "metadata": {},
          "output_type": "execute_result"
        }
      ],
      "source": [
        "# Sumar los elementos de la diagonal para obtener una función que dependa de X, Y, Z\n",
        "presure = - stress_tensor.trace() / 3\n",
        "print(\"El campo escalar de presiones esta dado por:\")\n",
        "presure"
      ]
    },
    {
      "cell_type": "code",
      "execution_count": 80,
      "metadata": {},
      "outputs": [
        {
          "data": {
            "text/plain": [
              "<Figure size 1000x500 with 0 Axes>"
            ]
          },
          "metadata": {},
          "output_type": "display_data"
        },
        {
          "data": {
            "application/vnd.jupyter.widget-view+json": {
              "model_id": "c1ef545038b24f92b147288d70940d67",
              "version_major": 2,
              "version_minor": 0
            },
            "text/plain": [
              "interactive(children=(FloatSlider(value=0.1, description='Z', max=0.2, step=0.01), Output()), _dom_classes=('w…"
            ]
          },
          "metadata": {},
          "output_type": "display_data"
        }
      ],
      "source": [
        "import numpy as np\n",
        "import matplotlib.pyplot as plt\n",
        "from sympy import symbols, lambdify\n",
        "from ipywidgets import interact\n",
        "\n",
        "plt.figure(figsize=(10, 5))\n",
        "\n",
        "# Interactive function to plot pressure contours for different Z values\n",
        "@interact\n",
        "def plot_pressure_contour(Z=(0, 0.2, 0.01)):\n",
        "    # Assuming 'presure' is defined somewhere else in your code as a SymPy expression\n",
        "    # For example: presure = X**2 + Y**2 + Z**2\n",
        "    # You need to define X, Y, Z as symbols if not already done:\n",
        "    X_sym, Y_sym, Z_sym = symbols('X Y Z')\n",
        "\n",
        "    # Convert your symbolic pressure expression into a function that can be evaluated numerically\n",
        "    # Replace 'presure' with your actual pressure expression\n",
        "    presure_function = lambdify((X_sym, Y_sym, Z_sym), presure, 'numpy')\n",
        "\n",
        "    # Define the coordinate ranges\n",
        "    X_range = np.linspace(0, 2, 100)\n",
        "    Y_range = np.linspace(0, 1, 100)\n",
        "\n",
        "    # Create a meshgrid for X and Y coordinates\n",
        "    X, Y = np.meshgrid(X_range, Y_range)\n",
        "    # Calculate pressure values for the given Z\n",
        "    pressure_values = presure_function(X, Y, Z)\n",
        "\n",
        "    # Plotting the contour\n",
        "   \n",
        "    plt.contourf(X, Y, pressure_values, cmap='coolwarm', levels=50)\n",
        "    plt.colorbar(label='Pressure [Pa]')\n",
        "    plt.title(f'Pressure field for Z={Z} [m]')\n",
        "    plt.xlabel('X [m]')\n",
        "    plt.ylabel('Y [m]')\n",
        "    plt.grid()\n",
        "    plt.show()\n"
      ]
    },
    {
      "cell_type": "markdown",
      "metadata": {},
      "source": [
        "El gráfico de contornos no varia, ya que la presión no tiene una dependencia con la coordenada z, "
      ]
    },
    {
      "cell_type": "code",
      "execution_count": 81,
      "metadata": {},
      "outputs": [
        {
          "name": "stdout",
          "output_type": "stream",
          "text": [
            "Máximo de presión: 119200000.00 [Pa], encontrado en X=0.0, Y=1.0, Z=0.1\n"
          ]
        }
      ],
      "source": [
        "from scipy.optimize import minimize\n",
        "# Definir la función de presión\n",
        "\n",
        "def pressure(XYZ):\n",
        "    X, Y, Z = XYZ\n",
        "    presure = presure_function(X, Y, Z)\n",
        "    # Minimizamos el negativo de la presión para encontrar el máximo\n",
        "    return -presure\n",
        "\n",
        "# Intervalo inicial para la búsqueda (punto de inicio)\n",
        "initial_guess = [1, 0.5, 0.1]\n",
        "\n",
        "# Llamar a minimize\n",
        "result = minimize(pressure, initial_guess, method='L-BFGS-B', bounds=[(0, 2), (0, 1), (0, 0.2)])\n",
        "\n",
        "# Mostrar el resultado\n",
        "if result.success:\n",
        "    maximized_pressure = -result.fun\n",
        "    X_opt, Y_opt, Z_opt = result.x\n",
        "    print(f\"Máximo de presión: {maximized_pressure:.2f} [Pa], encontrado en X={X_opt}, Y={Y_opt}, Z={Z_opt}\")\n",
        "else:\n",
        "    print(\"La optimización no fue exitosa. Mensaje:\", result.message)"
      ]
    },
    {
      "cell_type": "markdown",
      "metadata": {},
      "source": [
        "4. Calcule el tensor de esfuerzos en el centro del bloque. Diagonalizando el tensor, determine los esfuerzos principales (autovalores del tensor), $\\sigma_1, \\sigma_2, \\sigma_3$ y las direcciones de los esfuerzos principales (autovectores del tensor normalizados) $\\hat e_{\\sigma1}, \\hat e_{\\sigma2}, \\hat e_{\\sigma3}$. Ahora aplique una rotación del tensor de esfuerzos en ese punto y demuestre que el tensor rotado tiene forma diagonal. Repita el procedimiento de rotación a todos los puntos del bloque y usando esos tensores de esfuerzos rotados, repita 3 (mapas de calor de la presión en el bloque y lugar donde la presión es más grande)."
      ]
    },
    {
      "cell_type": "markdown",
      "metadata": {},
      "source": [
        "Calculando el tensor de esfuerzos para el centro del bloque, para esto solo basta usar la expresión de literales anteriores que se tiene para el tensor de esfuerzos y reemplazar las coordenadas del centro del bloque que son X=1, Y=0.5 y Z=0.1"
      ]
    },
    {
      "cell_type": "code",
      "execution_count": 82,
      "metadata": {},
      "outputs": [
        {
          "data": {
            "text/latex": [
              "$\\displaystyle \\left[\\begin{matrix}-256.0 & 5.108 \\cdot 10^{7} & -7.152 \\cdot 10^{7}\\\\5.108 \\cdot 10^{7} & 4.087 \\cdot 10^{7} & 2.248 \\cdot 10^{8}\\\\-7.152 \\cdot 10^{7} & 2.248 \\cdot 10^{8} & -2.452 \\cdot 10^{8}\\end{matrix}\\right]$"
            ],
            "text/plain": [
              "Matrix([\n",
              "[   -256.0, 5.108e+7, -7.152e+7],\n",
              "[ 5.108e+7, 4.087e+7,  2.248e+8],\n",
              "[-7.152e+7, 2.248e+8, -2.452e+8]])"
            ]
          },
          "execution_count": 82,
          "metadata": {},
          "output_type": "execute_result"
        }
      ],
      "source": [
        "# Regresando X, Y, Z a su valor simbolico\n",
        "X, Y, Z = symbols('X Y Z')  \n",
        "\n",
        "# Coordenadas en el centro del bloque\n",
        "Coordinates_center = {X: 1, Y: 0.5, Z: 0.1}  \n",
        "\n",
        "# Reemplaza en el tensor de esfuerzos las coordenadas del centro\n",
        "stress_tensor_center = stress_tensor.subs(Coordinates_center)\n",
        "stress_tensor_center = stress_tensor_center.applyfunc(lambda x: x.evalf(4))\n",
        "stress_tensor_center"
      ]
    },
    {
      "cell_type": "markdown",
      "metadata": {},
      "source": [
        "Veamos los autovalores y autovectores del tensor"
      ]
    },
    {
      "cell_type": "code",
      "execution_count": 83,
      "metadata": {},
      "outputs": [
        {
          "data": {
            "text/latex": [
              "$\\displaystyle \\left[\\begin{matrix}0.0686219669302664 & -0.973210487916348 & -0.219436487085089\\\\0.879885978052262 & -0.0446280717028344 & 0.47308455992888\\\\0.470203882673928 & 0.225543081085875 & -0.853251795950441\\end{matrix}\\right]$"
            ],
            "text/plain": [
              "Matrix([\n",
              "[0.0686219669302664,  -0.973210487916348, -0.219436487085089],\n",
              "[ 0.879885978052262, -0.0446280717028344,   0.47308455992888],\n",
              "[ 0.470203882673928,   0.225543081085875, -0.853251795950441]])"
            ]
          },
          "execution_count": 83,
          "metadata": {},
          "output_type": "execute_result"
        }
      ],
      "source": [
        "# Veamos los autovalores y autovectores de la matriz\n",
        "eigenvalues_vectors_values = stress_tensor_center.eigenvects()\n",
        "\n",
        "# Normalize and reescale the eigenvectors\n",
        "normalize_autovectors = []\n",
        "\n",
        "for i in eigenvalues_vectors_values:\n",
        "    eigenvector = i[2][0]\n",
        "    eigenvector_normal = eigenvector / eigenvector.norm()\n",
        "    normalize_autovectors.append(eigenvector_normal)\n",
        "\n",
        "rotate_matrix_with_autovectors = sp.Matrix.hstack(*normalize_autovectors)\n",
        "normalize_autovectors\n",
        "rotate_matrix_with_autovectors"
      ]
    },
    {
      "cell_type": "code",
      "execution_count": 88,
      "metadata": {},
      "outputs": [
        {
          "data": {
            "text/latex": [
              "$\\displaystyle \\left[\\begin{matrix}118232112.603768 & -106467992.691721 & 109621743.140208\\\\-106467992.691721 & -127839847.382224 & 177958677.322595\\\\109621743.140208 & 177958677.322595 & -194728649.221544\\end{matrix}\\right]$"
            ],
            "text/plain": [
              "Matrix([\n",
              "[ 118232112.603768, -106467992.691721,  109621743.140208],\n",
              "[-106467992.691721, -127839847.382224,  177958677.322595],\n",
              "[ 109621743.140208,  177958677.322595, -194728649.221544]])"
            ]
          },
          "execution_count": 88,
          "metadata": {},
          "output_type": "execute_result"
        }
      ],
      "source": [
        "\n",
        "rotate_stress_tensor = rotate_matrix_with_autovectors * stress_tensor_center * rotate_matrix_with_autovectors.T\n",
        "rotate_stress_tensor"
      ]
    },
    {
      "cell_type": "markdown",
      "metadata": {},
      "source": [
        "Veamos que es posible encontrar su forma diagonal"
      ]
    },
    {
      "cell_type": "code",
      "execution_count": 85,
      "metadata": {},
      "outputs": [
        {
          "data": {
            "text/latex": [
              "$\\displaystyle \\left[\\begin{matrix}164965003.960569 & 0 & 0\\\\0 & 18916490.8668992 & 0\\\\0 & 0 & -388217878.827468\\end{matrix}\\right]$"
            ],
            "text/plain": [
              "Matrix([\n",
              "[164965003.960569,                0,                 0],\n",
              "[               0, 18916490.8668992,                 0],\n",
              "[               0,                0, -388217878.827468]])"
            ]
          },
          "execution_count": 85,
          "metadata": {},
          "output_type": "execute_result"
        }
      ],
      "source": [
        "# Veamos que es posible encontrar su forma diagonal\n",
        "diagonalized_rotate_stress_tensor = rotate_stress_tensor.diagonalize()\n",
        "diagonalized_rotate_stress_tensor[1]"
      ]
    },
    {
      "cell_type": "markdown",
      "metadata": {},
      "source": [
        "La siguiente función generliza este proceso de rotación y diagonalización para cualquier punto en el bloque y con cualquier vector y angulo de rotación"
      ]
    },
    {
      "cell_type": "markdown",
      "metadata": {},
      "source": []
    }
  ],
  "metadata": {
    "colab": {
      "provenance": []
    },
    "kernelspec": {
      "display_name": "Python 3",
      "name": "python3"
    },
    "language_info": {
      "codemirror_mode": {
        "name": "ipython",
        "version": 3
      },
      "file_extension": ".py",
      "mimetype": "text/x-python",
      "name": "python",
      "nbconvert_exporter": "python",
      "pygments_lexer": "ipython3",
      "version": "3.10.12"
    }
  },
  "nbformat": 4,
  "nbformat_minor": 0
}
