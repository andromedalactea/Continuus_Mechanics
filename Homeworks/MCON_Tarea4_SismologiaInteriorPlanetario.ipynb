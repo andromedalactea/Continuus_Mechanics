{
  "cells": [
    {
      "cell_type": "markdown",
      "metadata": {
        "id": "6XE49aAfGdAu"
      },
      "source": [
        "<p>\n",
        "<h1><b><center></center></b></h1>\n",
        "<center><img src=\"https://drive.google.com/uc?id=1UJc1ci41G6ahJ7ProKvunUOIBcTXZ6ZG\" align=\"center\" width=\"550\"></center>\n",
        "</p>\n",
        "<h1><b><center>Mecánica Celeste</center></b></h1>\n",
        "<h2><b><center>Prof. Jorge I. Zuluaga</center></b></h1>\n",
        "<h2><b><center>Tarea 4</center></b><h2>\n",
        "<h3><b><center>Overshooting planetario y sismología</center></b><h3>\n",
        "<h5><center><b>Asignada</b>: 18 de Abril de 2024</center><h5>\n",
        "<h5><center><b>Entrega</b>: 30 de Abril de 2024</center><h5>\n",
        "</p>"
      ]
    },
    {
      "cell_type": "markdown",
      "metadata": {
        "id": "DZ3br0tlHiUH"
      },
      "source": [
        "<hr/>\n",
        "<b>Nombre</b>: Bryan Camilo Restrepo Arcila\n",
        "<br/>\n",
        "<b>Cédula</b>: 1000567825\n",
        "<br/>\n",
        "<b>Última actualización</b>:\n",
        "<hr/>"
      ]
    },
    {
      "cell_type": "markdown",
      "metadata": {
        "id": "32KKSLFEHYpg"
      },
      "source": [
        "## Enunciado"
      ]
    },
    {
      "cell_type": "markdown",
      "metadata": {
        "id": "BJv9-ZZAIUgW"
      },
      "source": [
        "**Objetivo**: El objetivo de esta tarea es hacer un modelo numérico del interior de planeta sólido y usando ese modelo estudiar la propagación de ondas sísmicas en el interior del planeta.\n",
        "\n",
        "**Procedimiento**:\n",
        "\n",
        "1. Obtenga los datos del interior de la Tierra que vienen con el PREM (densidad y velocidad de ondas S y P). A partir de esos datos y usando los modelos teóricos vistos en clase calcule el valor del módulo de compresibilidad $K$ y el módulo de rigidez $\\mu$ para la Tierra a cada profundidad.  Haga un gráfico de $K$ y $\\mu$ como función del radio. Encuentre el radio de cada una de las capas de la Tierra: manto inferior, núcleo externo, núcleo interno.\n",
        "\n",
        "2. Vamos a encontrar una relación matemática general entre $K$ y $\\mu$ como función de la densidad para el manto sólido de la Tierra y el núcleo líquido (solo el núcleo líquido). De acuerdo a modelos teóricos de medios continuos, los módulos se pueden escribir en general como:\n",
        "\n",
        "   $$\n",
        "   K(\\rho) = a\\rho^{n_K}\\\\\n",
        "   \\mu(\\rho) = b\\rho^{n_\\mu}\n",
        "   $$\n",
        "   \n",
        "   Hacer un ajuste de los parámetros $a, n_K, b, n_\\mu$ para el manto y para el núcleo líquido. Escriba rutinas generales que permitan calcular $K$ y $\\mu$ como función de la densidad.\n",
        "\n",
        "3. Vamos ahora a construir un planeta modelo en el cual podamos estudiar la propagación de ondas sísmicas. Este planeta tendrá la masa y asumiremos que tiene solo un núcleo líquido (como sugieren algunos modelos). Para ello resolveremos las ecuaciones:\n",
        "  \n",
        "  $$\n",
        "  \\begin{eqnarray}\n",
        "  \\frac{\\mathrm d p}{\\mathrm d r} & = & -\\rho g\\\\\n",
        "  \\frac{\\mathrm d M_r}{\\mathrm d r} & = & 4\\pi r^2\\rho \\\\\n",
        "  \\frac{\\mathrm d \\rho}{\\mathrm d r} & = & -\\frac{\\rho^2g}{K(\\rho)}\n",
        "  \\end{eqnarray}\n",
        "  $$\n",
        "  donde $g=GM_r/r^2$ y $K(\\rho)$ es la compresibilidad del material. Debe tenerse en cuenta cuando se escriba la rutina de estas ecuaciones que el cálculo de $K$ debe hacerse con los ajustes que obtuvimos en el punto 2.\n",
        "  \n",
        "  Para ello vamos a comenzar en la superficie del planeta con condiciones iniciales:\n",
        "  \n",
        "   $$p(R) = 0, M_r = M_m, \\rho(R) = 3000$$\n",
        "   \n",
        "  donde $M_m$ es la masa de Marte y $R$ es el radio del planeta (puede comenzar suponiendo que el radio es 0.8 veces el radio del Marte real). Suponemos que el núcleo del planeta siempre esta siempre ubicado en $r_N = 0.5 R$.  Integre las ecuaciones hasta $r=r_N$.\n",
        "\n",
        "  Usando la presión, la densidad y masa obtenidos por está integral, vamos ahora a integrar nuevamente las ecuaciones hasta muy cerca al centro (pe. $r = 0.1 r_N$). No podemos llegar hasta el centro mismo porque las ecuaciones son singulares allí. Es importante entender que al pasar del manto al núcleo, la densidad aumenta (por el cambio en la composición) en un factor de 1.7 (de silicatos a Hierro).\n",
        "\n",
        "  Haga un gráfico de la densidad, masa y presión obtenida con esta integración.\n",
        "\n",
        "4. Cuando se hace esta última integración, es posible que en el centro obtenga un valor positivo de $M_r/M_m$ que no tiene sentido. Muy cerca al centro se debe cumplir que $M_r/M_m\\approx 0$. Para que se consiga esta situación debe aumentarse el radio: $R=0.8R_m$, $R=0.9R_m$, $R=R_m$, $R=1.01R_m$, etc.\n",
        "\n",
        "  Observe como el valor de $M_r/M_m$ en el centro va disminuyendo. Si sigue aumentando el radio en un momento dado $M_r/M_m$ se hace negativo, lo que tampoco tiene sentido.\n",
        "  \n",
        "  Encuentre el radio del cuerpo tal que $M_r/M_m$ sea lo más pequeño posible. Una vez encontrado ese será el radio real del planeta.\n",
        "  \n",
        "  A este método se lo conoce como *overshooting* y es muy utilizado en el estudio del interior de planetas y estrellas.\n",
        "\n",
        "  Una vez obtenida las propiedades del planeta cálcule y grafique en función del radio: $M_r$, g, presión, densidad, K, $\\mu$, $v_s$ y $v_P$.\n",
        "\n",
        "6. **(Opcional)** Usando el modelo resultante, vamos a estudiar la propagación de ondas sísmicas en el interior del planeta. Para ello usaremos un modelo 2D (el planeta como un círculo).\n",
        "\n",
        "  Vamos a producir un rayo de ondas P en el polo norte del planeta y veremos como se propagan por el interior. Este rayo debe salir no en dirección vertical hacia abajo, sino formando un ángulo con la vertical.\n",
        "  \n",
        "  Dividamos el planeta en 50 capas concéntricas en el manto y 50 en el núcleo.\n",
        "  Propague el rayo hasta la primera capa interior a partir de la superficie. Calcule el ángulo de incidencia en el punto en el que el rayo llega a esa capa y la velocidad de las ondas P allí. Usando la ley de Snell calcule el ángulo de refracción y vuelva a propagar el rayo hasta la siguiente capa y así sucesuvamente.\n",
        "\n",
        "  Repita lo anterior hasta que la onda llegue al otro lado del planeta. Ahora bien, si en una capa dada, el ángulo de incidencia es casi 90 grados (incidencia rasante) en lugar de refractar el rayo, suponga que se refleja. Repita la propagación hasta que el rayo alcance la superficie. Como nunca será 90 grados, suponga que la reflexión ocurre cuando el ángulo de incidencia es 80 grados. Puede variar esta condición para obtener mejores resultados.\n",
        "\n",
        "  Repita el mismo procedimiento con rayos en muchas direcciones diferentes y gráfique el camino de los rayos en el interior del planeta.\n",
        "\n",
        "  Haga lo mismo pero con las ondas S (tenga en cuenta que si el rayo S llega al núcleo sólido no puede continuar)."
      ]
    },
    {
      "cell_type": "markdown",
      "metadata": {
        "id": "91A-a_vz5IqR"
      },
      "source": [
        "**Resultados esperados**:\n",
        "\n",
        "- Este notebook con el procedimiento debidamente comentado.\n",
        "\n",
        "- Gráficos mínimos:\n",
        "  - Gráficos de cada punto.\n",
        "\n",
        "- Datos mínimos:\n",
        "  - Los números solicitados en cada punto.\n",
        "\n",
        "- En caso de utilizar ayudas como `ChatGPT` o códigos de `Stack Over Flow` debe citar debidamente la fuente, pero también entender a cabalidad el código, el profesor puede pedir justificación."
      ]
    },
    {
      "cell_type": "markdown",
      "metadata": {},
      "source": [
        "Instalación de paquetes"
      ]
    },
    {
      "cell_type": "code",
      "execution_count": 4,
      "metadata": {},
      "outputs": [
        {
          "name": "stdout",
          "output_type": "stream",
          "text": [
            "\n",
            "\u001b[1m[\u001b[0m\u001b[34;49mnotice\u001b[0m\u001b[1;39;49m]\u001b[0m\u001b[39;49m A new release of pip is available: \u001b[0m\u001b[31;49m23.2.1\u001b[0m\u001b[39;49m -> \u001b[0m\u001b[32;49m24.0\u001b[0m\n",
            "\u001b[1m[\u001b[0m\u001b[34;49mnotice\u001b[0m\u001b[1;39;49m]\u001b[0m\u001b[39;49m To update, run: \u001b[0m\u001b[32;49mpip install --upgrade pip\u001b[0m\n"
          ]
        }
      ],
      "source": [
        "!pip install -Uq rockhound sympy numpy matplotlib"
      ]
    },
    {
      "cell_type": "markdown",
      "metadata": {},
      "source": [
        "Importación de paquetes"
      ]
    },
    {
      "cell_type": "code",
      "execution_count": 5,
      "metadata": {},
      "outputs": [],
      "source": [
        "import rockhound as rh\n",
        "import matplotlib.pyplot as plt\n",
        "import numpy as np\n",
        "from sympy import symbols, Eq, solve\n",
        "import pandas as pd"
      ]
    },
    {
      "cell_type": "markdown",
      "metadata": {},
      "source": [
        "Constantes"
      ]
    },
    {
      "cell_type": "code",
      "execution_count": 9,
      "metadata": {},
      "outputs": [],
      "source": [
        "# Conversión de unidades\n",
        "km2m = 1e3 # km a m\n",
        "gr_cm3_2_kg_m3 = 1e3 # g/cm³ a kg/m³\n"
      ]
    },
    {
      "cell_type": "markdown",
      "metadata": {
        "id": "J0ISSYQpHex_"
      },
      "source": [
        "## Solución"
      ]
    },
    {
      "cell_type": "markdown",
      "metadata": {},
      "source": [
        "1. Obtenga los datos del interior de la Tierra que vienen con el PREM (densidad y velocidad de ondas S y P). A partir de esos datos y usando los modelos teóricos vistos en clase calcule el valor del módulo de compresibilidad $K$ y el módulo de rigidez $\\mu$ para la Tierra a cada profundidad.  Haga un gráfico de $K$ y $\\mu$ como función del radio. Encuentre el radio de cada una de las capas de la Tierra: manto inferior, núcleo externo, núcleo interno."
      ]
    },
    {
      "cell_type": "markdown",
      "metadata": {},
      "source": [
        "Extraer los datos del PREM de la base de datos de rockhound"
      ]
    },
    {
      "cell_type": "code",
      "execution_count": 6,
      "metadata": {},
      "outputs": [
        {
          "name": "stderr",
          "output_type": "stream",
          "text": [
            "Downloading file 'PREM_1s.csv' from 'https://ds.iris.edu/files/products/emc/data/PREM/PREM_1s.csv' to '/home/clickgreen/.cache/rockhound'.\n"
          ]
        }
      ],
      "source": [
        "prem = rh.fetch_prem()"
      ]
    },
    {
      "cell_type": "markdown",
      "metadata": {},
      "source": [
        "Llevando a unidades del sistema internacional"
      ]
    },
    {
      "cell_type": "code",
      "execution_count": 11,
      "metadata": {},
      "outputs": [
        {
          "data": {
            "text/html": [
              "<div>\n",
              "<style scoped>\n",
              "    .dataframe tbody tr th:only-of-type {\n",
              "        vertical-align: middle;\n",
              "    }\n",
              "\n",
              "    .dataframe tbody tr th {\n",
              "        vertical-align: top;\n",
              "    }\n",
              "\n",
              "    .dataframe thead th {\n",
              "        text-align: right;\n",
              "    }\n",
              "</style>\n",
              "<table border=\"1\" class=\"dataframe\">\n",
              "  <thead>\n",
              "    <tr style=\"text-align: right;\">\n",
              "      <th></th>\n",
              "      <th>radius</th>\n",
              "      <th>depth</th>\n",
              "      <th>density</th>\n",
              "      <th>Vpv</th>\n",
              "      <th>Vph</th>\n",
              "      <th>Vsv</th>\n",
              "      <th>Vsh</th>\n",
              "      <th>eta</th>\n",
              "      <th>Q_mu</th>\n",
              "      <th>Q_kappa</th>\n",
              "      <th>mu</th>\n",
              "      <th>K</th>\n",
              "    </tr>\n",
              "  </thead>\n",
              "  <tbody>\n",
              "    <tr>\n",
              "      <th>0</th>\n",
              "      <td>6371.0</td>\n",
              "      <td>0.0</td>\n",
              "      <td>1020000.0</td>\n",
              "      <td>1450.00</td>\n",
              "      <td>1.45000</td>\n",
              "      <td>0.00000</td>\n",
              "      <td>0.00</td>\n",
              "      <td>1.0</td>\n",
              "      <td>0.0</td>\n",
              "      <td>57823.0</td>\n",
              "      <td>0.000000</td>\n",
              "      <td>2.144550</td>\n",
              "    </tr>\n",
              "    <tr>\n",
              "      <th>1</th>\n",
              "      <td>6370.0</td>\n",
              "      <td>1000.0</td>\n",
              "      <td>1020000.0</td>\n",
              "      <td>1450.00</td>\n",
              "      <td>1.45000</td>\n",
              "      <td>0.00000</td>\n",
              "      <td>0.00</td>\n",
              "      <td>1.0</td>\n",
              "      <td>0.0</td>\n",
              "      <td>57823.0</td>\n",
              "      <td>0.000000</td>\n",
              "      <td>2.144550</td>\n",
              "    </tr>\n",
              "    <tr>\n",
              "      <th>2</th>\n",
              "      <td>6369.0</td>\n",
              "      <td>2000.0</td>\n",
              "      <td>1020000.0</td>\n",
              "      <td>1450.00</td>\n",
              "      <td>1.45000</td>\n",
              "      <td>0.00000</td>\n",
              "      <td>0.00</td>\n",
              "      <td>1.0</td>\n",
              "      <td>0.0</td>\n",
              "      <td>57823.0</td>\n",
              "      <td>0.000000</td>\n",
              "      <td>2.144550</td>\n",
              "    </tr>\n",
              "    <tr>\n",
              "      <th>3</th>\n",
              "      <td>6368.0</td>\n",
              "      <td>3000.0</td>\n",
              "      <td>1020000.0</td>\n",
              "      <td>1450.00</td>\n",
              "      <td>1.45000</td>\n",
              "      <td>0.00000</td>\n",
              "      <td>0.00</td>\n",
              "      <td>1.0</td>\n",
              "      <td>0.0</td>\n",
              "      <td>57823.0</td>\n",
              "      <td>0.000000</td>\n",
              "      <td>2.144550</td>\n",
              "    </tr>\n",
              "    <tr>\n",
              "      <th>4</th>\n",
              "      <td>6368.0</td>\n",
              "      <td>3000.0</td>\n",
              "      <td>2600000.0</td>\n",
              "      <td>5800.00</td>\n",
              "      <td>5.80000</td>\n",
              "      <td>3.20000</td>\n",
              "      <td>3200.00</td>\n",
              "      <td>1.0</td>\n",
              "      <td>600.0</td>\n",
              "      <td>57823.0</td>\n",
              "      <td>26.624000</td>\n",
              "      <td>51.965333</td>\n",
              "    </tr>\n",
              "    <tr>\n",
              "      <th>...</th>\n",
              "      <td>...</td>\n",
              "      <td>...</td>\n",
              "      <td>...</td>\n",
              "      <td>...</td>\n",
              "      <td>...</td>\n",
              "      <td>...</td>\n",
              "      <td>...</td>\n",
              "      <td>...</td>\n",
              "      <td>...</td>\n",
              "      <td>...</td>\n",
              "      <td>...</td>\n",
              "      <td>...</td>\n",
              "    </tr>\n",
              "    <tr>\n",
              "      <th>194</th>\n",
              "      <td>400.0</td>\n",
              "      <td>5971000.0</td>\n",
              "      <td>13053660.0</td>\n",
              "      <td>11237.11</td>\n",
              "      <td>11.23711</td>\n",
              "      <td>3.65027</td>\n",
              "      <td>3650.27</td>\n",
              "      <td>1.0</td>\n",
              "      <td>84.6</td>\n",
              "      <td>1327.7</td>\n",
              "      <td>173.933115</td>\n",
              "      <td>1416.409305</td>\n",
              "    </tr>\n",
              "    <tr>\n",
              "      <th>195</th>\n",
              "      <td>300.0</td>\n",
              "      <td>6071000.0</td>\n",
              "      <td>13068900.0</td>\n",
              "      <td>11248.09</td>\n",
              "      <td>11.24809</td>\n",
              "      <td>3.65794</td>\n",
              "      <td>3657.94</td>\n",
              "      <td>1.0</td>\n",
              "      <td>84.6</td>\n",
              "      <td>1327.7</td>\n",
              "      <td>174.868744</td>\n",
              "      <td>1420.312743</td>\n",
              "    </tr>\n",
              "    <tr>\n",
              "      <th>196</th>\n",
              "      <td>200.0</td>\n",
              "      <td>6171000.0</td>\n",
              "      <td>13079790.0</td>\n",
              "      <td>11255.93</td>\n",
              "      <td>11.25593</td>\n",
              "      <td>3.66342</td>\n",
              "      <td>3663.42</td>\n",
              "      <td>1.0</td>\n",
              "      <td>84.6</td>\n",
              "      <td>1327.7</td>\n",
              "      <td>175.539233</td>\n",
              "      <td>1423.104243</td>\n",
              "    </tr>\n",
              "    <tr>\n",
              "      <th>197</th>\n",
              "      <td>100.0</td>\n",
              "      <td>6271000.0</td>\n",
              "      <td>13086320.0</td>\n",
              "      <td>11260.63</td>\n",
              "      <td>11.26063</td>\n",
              "      <td>3.66670</td>\n",
              "      <td>3666.70</td>\n",
              "      <td>1.0</td>\n",
              "      <td>84.6</td>\n",
              "      <td>1327.7</td>\n",
              "      <td>175.941501</td>\n",
              "      <td>1424.780106</td>\n",
              "    </tr>\n",
              "    <tr>\n",
              "      <th>198</th>\n",
              "      <td>0.0</td>\n",
              "      <td>6371000.0</td>\n",
              "      <td>13088500.0</td>\n",
              "      <td>11262.20</td>\n",
              "      <td>11.26220</td>\n",
              "      <td>3.66780</td>\n",
              "      <td>3667.80</td>\n",
              "      <td>1.0</td>\n",
              "      <td>84.6</td>\n",
              "      <td>1327.7</td>\n",
              "      <td>176.076408</td>\n",
              "      <td>1425.339479</td>\n",
              "    </tr>\n",
              "  </tbody>\n",
              "</table>\n",
              "<p>199 rows × 12 columns</p>\n",
              "</div>"
            ],
            "text/plain": [
              "     radius      depth     density       Vpv       Vph      Vsv      Vsh  eta  \\\n",
              "0    6371.0        0.0   1020000.0   1450.00   1.45000  0.00000     0.00  1.0   \n",
              "1    6370.0     1000.0   1020000.0   1450.00   1.45000  0.00000     0.00  1.0   \n",
              "2    6369.0     2000.0   1020000.0   1450.00   1.45000  0.00000     0.00  1.0   \n",
              "3    6368.0     3000.0   1020000.0   1450.00   1.45000  0.00000     0.00  1.0   \n",
              "4    6368.0     3000.0   2600000.0   5800.00   5.80000  3.20000  3200.00  1.0   \n",
              "..      ...        ...         ...       ...       ...      ...      ...  ...   \n",
              "194   400.0  5971000.0  13053660.0  11237.11  11.23711  3.65027  3650.27  1.0   \n",
              "195   300.0  6071000.0  13068900.0  11248.09  11.24809  3.65794  3657.94  1.0   \n",
              "196   200.0  6171000.0  13079790.0  11255.93  11.25593  3.66342  3663.42  1.0   \n",
              "197   100.0  6271000.0  13086320.0  11260.63  11.26063  3.66670  3666.70  1.0   \n",
              "198     0.0  6371000.0  13088500.0  11262.20  11.26220  3.66780  3667.80  1.0   \n",
              "\n",
              "      Q_mu  Q_kappa          mu            K  \n",
              "0      0.0  57823.0    0.000000     2.144550  \n",
              "1      0.0  57823.0    0.000000     2.144550  \n",
              "2      0.0  57823.0    0.000000     2.144550  \n",
              "3      0.0  57823.0    0.000000     2.144550  \n",
              "4    600.0  57823.0   26.624000    51.965333  \n",
              "..     ...      ...         ...          ...  \n",
              "194   84.6   1327.7  173.933115  1416.409305  \n",
              "195   84.6   1327.7  174.868744  1420.312743  \n",
              "196   84.6   1327.7  175.539233  1423.104243  \n",
              "197   84.6   1327.7  175.941501  1424.780106  \n",
              "198   84.6   1327.7  176.076408  1425.339479  \n",
              "\n",
              "[199 rows x 12 columns]"
            ]
          },
          "execution_count": 11,
          "metadata": {},
          "output_type": "execute_result"
        }
      ],
      "source": [
        "prem['density'] = prem['density'] * gr_cm3_2_kg_m3 # g/cm³ a kg/m³\n",
        "prem['depth'] = prem['depth'] * km2m # km a m\n",
        "prem['Vsh'] = prem['Vsh'] * km2m # km/s a m/s\n",
        "prem['Vpv'] = prem['Vpv'] * km2m # km/s a m/s"
      ]
    },
    {
      "cell_type": "markdown",
      "metadata": {},
      "source": [
        "A partir de esos datos y usando los modelos teóricos vistos en clase calcule el valor del módulo de compresibilidad K y el módulo de rigidez μ para la Tierra a cada profundidad.  Haga un gráfico de K y μ como función del radio.\n",
        "\n",
        "estos modulos pueden ser encontrados a partir de estas expresiones:\n",
        "\n",
        "Velocidad de las ondas, S:\n",
        "$$\n",
        "v_s = \\sqrt{\\frac{\\mu}{\\rho}} \n",
        "$$\n",
        "entonces:\n",
        "$$\n",
        "\\mu = V_s^2\\rho\n",
        "$$\n",
        "\n",
        "Velocidad de las ondas, P\n",
        "$$\n",
        "v_p = \\sqrt{\\frac{K + \\frac{4}{3}\\mu}{\\rho}}\n",
        "$$\n",
        "entonces:\n",
        "\n",
        "$$\n",
        "K = V_p^2 \\rho - \\frac{4\\mu}{3}\n",
        "$$"
      ]
    },
    {
      "cell_type": "code",
      "execution_count": 12,
      "metadata": {
        "id": "DSoMsG3Ar1VL"
      },
      "outputs": [
        {
          "data": {
            "image/png": "[encoded data removed]",
            "text/plain": [
              "<Figure size 1000x800 with 2 Axes>"
            ]
          },
          "metadata": {},
          "output_type": "display_data"
        }
      ],
      "source": [
        "# Cálculo de mu y K a partir del dataframe\n",
        "prem['mu'] = prem['Vsh'] ** 2 * prem['density'] # Pa\n",
        "prem['K'] = prem['Vpv'] ** 2 * prem['density'] - (4/3) * prem['mu'] # Pa\n",
        "\n",
        "# Crear subplots para K y mu\n",
        "fig, axs = plt.subplots(2, 1, figsize=(10, 8))\n",
        "\n",
        "# Gráfico de mu (módulo de corte)\n",
        "axs[0].plot(prem['radius'], prem['mu'], label='Modulo de Corte (mu)')\n",
        "axs[0].set_xlabel('Radio [m]')\n",
        "axs[0].set_ylabel('Modulo de Corte (mu) [Pa]')\n",
        "axs[0].legend()\n",
        "\n",
        "# Gráfico de K (módulo de compresibilidad)\n",
        "axs[1].plot(prem['radius'], prem['K'], label='Modulo de Compresibilidad (K)', color='orange')\n",
        "axs[1].set_xlabel('Radio [m]')\n",
        "axs[1].set_ylabel('Modulo de Compresibilidad (K) [Pa]')\n",
        "axs[1].legend()\n",
        "\n",
        "# Agregar un título global a los subplots\n",
        "fig.suptitle('Módulos K y μ para Diferentes Radios', fontsize=16, fontweight='bold')\n",
        "\n",
        "# Mostrar gráficos\n",
        "plt.tight_layout()\n",
        "plt.subplots_adjust(top=0.9)  # Ajustar el espacio superior para acomodar el título global\n",
        "plt.show()"
      ]
    },
    {
      "cell_type": "markdown",
      "metadata": {},
      "source": [
        "El modulo que nos puede dar información al respecto de la estructura al interior de la tierra es sobre todo el modulo de rigidez $\\mu$ ya que esta directamente relacionado con la velocidad de las ondas S o (transversales), cuando este modulo se acerca a 0 nos puede indicar dos cosas o que la densidad de ese medio es muy alta, o que la velocidad de las ondas S en ese medio es muy pequeña o nula, en nuesto caso la densidad no es extremadamente alta por tanto por tanto nos indica que lo que esta pasando es que las ondas S no estan viajando en ese medio caracteristica tipica de los fluidos en este caso el nucleo externo terrestre en el gráfico se puede observar según este criterio que el nucleo interno va hasta unos 1200 Km después el nucleo externo liquido va hasta unos 3400 km y ya el manto continua a partir de este punto (Excluyendo la corteza), pero veamos númericamente estos radios según los datos que tenemos del modulo de rigidez"
      ]
    },
    {
      "cell_type": "code",
      "execution_count": 17,
      "metadata": {},
      "outputs": [
        {
          "name": "stdout",
          "output_type": "stream",
          "text": [
            "\n",
            "El nucleo interno va hasta unos 1221.5 Km después el nucleo externo liquido va hasta unos 3480.0 km\n",
            "y ya el manto continua a partir de este punto (Excluyendo la corteza)\n",
            "\n"
          ]
        }
      ],
      "source": [
        "# Filtra el DataFrame para obtener solo las filas donde 'mu' es 0\n",
        "filtered_df = prem.iloc[10:][prem.iloc[10:]['mu'] == 0] # y excluye la corteza exterior\n",
        "\n",
        "# Encuentra el valor mínimo y máximo de 'radius' en el DataFrame filtrado\n",
        "min_radius = filtered_df['radius'].min()\n",
        "max_radius = filtered_df['radius'].max()\n",
        "\n",
        "print(f\"\"\"\n",
        "El nucleo interno va hasta unos {min_radius} Km después continua el nucleo externo liquido hasta unos {max_radius} km\n",
        "y ya el manto continua a partir de este punto (Excluyendo la corteza)\n",
        "\"\"\")\n"
      ]
    },
    {
      "cell_type": "markdown",
      "metadata": {},
      "source": []
    }
  ],
  "metadata": {
    "colab": {
      "provenance": []
    },
    "kernelspec": {
      "display_name": "Python 3",
      "name": "python3"
    },
    "language_info": {
      "codemirror_mode": {
        "name": "ipython",
        "version": 3
      },
      "file_extension": ".py",
      "mimetype": "text/x-python",
      "name": "python",
      "nbconvert_exporter": "python",
      "pygments_lexer": "ipython3",
      "version": "3.11.5"
    }
  },
  "nbformat": 4,
  "nbformat_minor": 0
}
