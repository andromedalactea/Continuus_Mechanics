{
  "cells": [
    {
      "cell_type": "markdown",
      "metadata": {
        "id": "6XE49aAfGdAu"
      },
      "source": [
        "<p>\n",
        "<h1><b><center></center></b></h1>\n",
        "<center><img src=\"https://drive.google.com/uc?id=1UJc1ci41G6ahJ7ProKvunUOIBcTXZ6ZG\" align=\"center\" width=\"550\"></center>\n",
        "</p>\n",
        "<h1><b><center>Mecánica Celeste</center></b></h1>\n",
        "<h2><b><center>Prof. Jorge I. Zuluaga</center></b></h1>\n",
        "<h2><b><center>Tarea 4</center></b><h2>\n",
        "<h3><b><center>Overshooting planetario y sismología</center></b><h3>\n",
        "<h5><center><b>Asignada</b>: 18 de Abril de 2024</center><h5>\n",
        "<h5><center><b>Entrega</b>: 30 de Abril de 2024</center><h5>\n",
        "</p>"
      ]
    },
    {
      "cell_type": "markdown",
      "metadata": {
        "id": "DZ3br0tlHiUH"
      },
      "source": [
        "<hr/>\n",
        "<b>Nombre</b>: Bryan Camilo Restrepo Arcila\n",
        "<br/>\n",
        "<b>Cédula</b>: 1000567825\n",
        "<br/>\n",
        "<b>Última actualización</b>:\n",
        "<hr/>"
      ]
    },
    {
      "cell_type": "markdown",
      "metadata": {
        "id": "32KKSLFEHYpg"
      },
      "source": [
        "## Enunciado"
      ]
    },
    {
      "cell_type": "markdown",
      "metadata": {
        "id": "BJv9-ZZAIUgW"
      },
      "source": [
        "**Objetivo**: El objetivo de esta tarea es hacer un modelo numérico del interior de planeta sólido y usando ese modelo estudiar la propagación de ondas sísmicas en el interior del planeta.\n",
        "\n",
        "**Procedimiento**:\n",
        "\n",
        "1. Obtenga los datos del interior de la Tierra que vienen con el PREM (densidad y velocidad de ondas S y P). A partir de esos datos y usando los modelos teóricos vistos en clase calcule el valor del módulo de compresibilidad $K$ y el módulo de rigidez $\\mu$ para la Tierra a cada profundidad.  Haga un gráfico de $K$ y $\\mu$ como función del radio. Encuentre el radio de cada una de las capas de la Tierra: manto inferior, núcleo externo, núcleo interno.\n",
        "\n",
        "2. Vamos a encontrar una relación matemática general entre $K$ y $\\mu$ como función de la densidad para el manto sólido de la Tierra y el núcleo líquido (solo el núcleo líquido). De acuerdo a modelos teóricos de medios continuos, los módulos se pueden escribir en general como:\n",
        "\n",
        "   $$\n",
        "   K(\\rho) = a\\rho^{n_K}\\\\\n",
        "   \\mu(\\rho) = b\\rho^{n_\\mu}\n",
        "   $$\n",
        "   \n",
        "   Hacer un ajuste de los parámetros $a, n_K, b, n_\\mu$ para el manto y para el núcleo líquido. Escriba rutinas generales que permitan calcular $K$ y $\\mu$ como función de la densidad.\n",
        "\n",
        "3. Vamos ahora a construir un planeta modelo en el cual podamos estudiar la propagación de ondas sísmicas. Este planeta tendrá la masa y asumiremos que tiene solo un núcleo líquido (como sugieren algunos modelos). Para ello resolveremos las ecuaciones:\n",
        "  \n",
        "  $$\n",
        "  \\begin{eqnarray}\n",
        "  \\frac{\\mathrm d p}{\\mathrm d r} & = & -\\rho g\\\\\n",
        "  \\frac{\\mathrm d M_r}{\\mathrm d r} & = & 4\\pi r^2\\rho \\\\\n",
        "  \\frac{\\mathrm d \\rho}{\\mathrm d r} & = & -\\frac{\\rho^2g}{K(\\rho)}\n",
        "  \\end{eqnarray}\n",
        "  $$\n",
        "  donde $g=GM_r/r^2$ y $K(\\rho)$ es la compresibilidad del material. Debe tenerse en cuenta cuando se escriba la rutina de estas ecuaciones que el cálculo de $K$ debe hacerse con los ajustes que obtuvimos en el punto 2.\n",
        "  \n",
        "  Para ello vamos a comenzar en la superficie del planeta con condiciones iniciales:\n",
        "  \n",
        "   $$p(R) = 0, M_r = M_m, \\rho(R) = 3000$$\n",
        "   \n",
        "  donde $M_m$ es la masa de Marte y $R$ es el radio del planeta (puede comenzar suponiendo que el radio es 0.8 veces el radio del Marte real). Suponemos que el núcleo del planeta siempre esta siempre ubicado en $r_N = 0.5 R$.  Integre las ecuaciones hasta $r=r_N$.\n",
        "\n",
        "  Usando la presión, la densidad y masa obtenidos por está integral, vamos ahora a integrar nuevamente las ecuaciones hasta muy cerca al centro (pe. $r = 0.1 r_N$). No podemos llegar hasta el centro mismo porque las ecuaciones son singulares allí. Es importante entender que al pasar del manto al núcleo, la densidad aumenta (por el cambio en la composición) en un factor de 1.7 (de silicatos a Hierro).\n",
        "\n",
        "  Haga un gráfico de la densidad, masa y presión obtenida con esta integración.\n",
        "\n",
        "4. Cuando se hace esta última integración, es posible que en el centro obtenga un valor positivo de $M_r/M_m$ que no tiene sentido. Muy cerca al centro se debe cumplir que $M_r/M_m\\approx 0$. Para que se consiga esta situación debe aumentarse el radio: $R=0.8R_m$, $R=0.9R_m$, $R=R_m$, $R=1.01R_m$, etc.\n",
        "\n",
        "  Observe como el valor de $M_r/M_m$ en el centro va disminuyendo. Si sigue aumentando el radio en un momento dado $M_r/M_m$ se hace negativo, lo que tampoco tiene sentido.\n",
        "  \n",
        "  Encuentre el radio del cuerpo tal que $M_r/M_m$ sea lo más pequeño posible. Una vez encontrado ese será el radio real del planeta.\n",
        "  \n",
        "  A este método se lo conoce como *overshooting* y es muy utilizado en el estudio del interior de planetas y estrellas.\n",
        "\n",
        "  Una vez obtenida las propiedades del planeta cálcule y grafique en función del radio: $M_r$, g, presión, densidad, K, $\\mu$, $v_s$ y $v_P$.\n",
        "\n",
        "6. **(Opcional)** Usando el modelo resultante, vamos a estudiar la propagación de ondas sísmicas en el interior del planeta. Para ello usaremos un modelo 2D (el planeta como un círculo).\n",
        "\n",
        "  Vamos a producir un rayo de ondas P en el polo norte del planeta y veremos como se propagan por el interior. Este rayo debe salir no en dirección vertical hacia abajo, sino formando un ángulo con la vertical.\n",
        "  \n",
        "  Dividamos el planeta en 50 capas concéntricas en el manto y 50 en el núcleo.\n",
        "  Propague el rayo hasta la primera capa interior a partir de la superficie. Calcule el ángulo de incidencia en el punto en el que el rayo llega a esa capa y la velocidad de las ondas P allí. Usando la ley de Snell calcule el ángulo de refracción y vuelva a propagar el rayo hasta la siguiente capa y así sucesuvamente.\n",
        "\n",
        "  Repita lo anterior hasta que la onda llegue al otro lado del planeta. Ahora bien, si en una capa dada, el ángulo de incidencia es casi 90 grados (incidencia rasante) en lugar de refractar el rayo, suponga que se refleja. Repita la propagación hasta que el rayo alcance la superficie. Como nunca será 90 grados, suponga que la reflexión ocurre cuando el ángulo de incidencia es 80 grados. Puede variar esta condición para obtener mejores resultados.\n",
        "\n",
        "  Repita el mismo procedimiento con rayos en muchas direcciones diferentes y gráfique el camino de los rayos en el interior del planeta.\n",
        "\n",
        "  Haga lo mismo pero con las ondas S (tenga en cuenta que si el rayo S llega al núcleo sólido no puede continuar)."
      ]
    },
    {
      "cell_type": "markdown",
      "metadata": {
        "id": "91A-a_vz5IqR"
      },
      "source": [
        "**Resultados esperados**:\n",
        "\n",
        "- Este notebook con el procedimiento debidamente comentado.\n",
        "\n",
        "- Gráficos mínimos:\n",
        "  - Gráficos de cada punto.\n",
        "\n",
        "- Datos mínimos:\n",
        "  - Los números solicitados en cada punto.\n",
        "\n",
        "- En caso de utilizar ayudas como `ChatGPT` o códigos de `Stack Over Flow` debe citar debidamente la fuente, pero también entender a cabalidad el código, el profesor puede pedir justificación."
      ]
    },
    {
      "cell_type": "markdown",
      "metadata": {},
      "source": [
        "Instalación de paquetes"
      ]
    },
    {
      "cell_type": "code",
      "execution_count": 2,
      "metadata": {},
      "outputs": [
        {
          "name": "stdout",
          "output_type": "stream",
          "text": [
            "\n",
            "\u001b[1m[\u001b[0m\u001b[34;49mnotice\u001b[0m\u001b[1;39;49m]\u001b[0m\u001b[39;49m A new release of pip is available: \u001b[0m\u001b[31;49m23.2.1\u001b[0m\u001b[39;49m -> \u001b[0m\u001b[32;49m24.0\u001b[0m\n",
            "\u001b[1m[\u001b[0m\u001b[34;49mnotice\u001b[0m\u001b[1;39;49m]\u001b[0m\u001b[39;49m To update, run: \u001b[0m\u001b[32;49mpip install --upgrade pip\u001b[0m\n"
          ]
        }
      ],
      "source": [
        "!pip install -Uq rockhound sympy numpy matplotlib"
      ]
    },
    {
      "cell_type": "markdown",
      "metadata": {},
      "source": [
        "Importación de paquetes"
      ]
    },
    {
      "cell_type": "code",
      "execution_count": 3,
      "metadata": {},
      "outputs": [],
      "source": [
        "import rockhound as rh\n",
        "import matplotlib.pyplot as plt\n",
        "import numpy as np\n",
        "from sympy import symbols, Eq, solve"
      ]
    },
    {
      "cell_type": "markdown",
      "metadata": {
        "id": "J0ISSYQpHex_"
      },
      "source": [
        "## Solución"
      ]
    },
    {
      "cell_type": "markdown",
      "metadata": {},
      "source": [
        "1. Obtenga los datos del interior de la Tierra que vienen con el PREM (densidad y velocidad de ondas S y P). A partir de esos datos y usando los modelos teóricos vistos en clase calcule el valor del módulo de compresibilidad $K$ y el módulo de rigidez $\\mu$ para la Tierra a cada profundidad.  Haga un gráfico de $K$ y $\\mu$ como función del radio. Encuentre el radio de cada una de las capas de la Tierra: manto inferior, núcleo externo, núcleo interno."
      ]
    },
    {
      "cell_type": "code",
      "execution_count": null,
      "metadata": {
        "id": "DSoMsG3Ar1VL"
      },
      "outputs": [],
      "source": []
    }
  ],
  "metadata": {
    "colab": {
      "provenance": []
    },
    "kernelspec": {
      "display_name": "Python 3",
      "name": "python3"
    },
    "language_info": {
      "codemirror_mode": {
        "name": "ipython",
        "version": 3
      },
      "file_extension": ".py",
      "mimetype": "text/x-python",
      "name": "python",
      "nbconvert_exporter": "python",
      "pygments_lexer": "ipython3",
      "version": "3.11.5"
    }
  },
  "nbformat": 4,
  "nbformat_minor": 0
}
